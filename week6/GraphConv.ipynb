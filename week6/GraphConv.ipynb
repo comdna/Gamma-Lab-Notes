{
 "cells": [
  {
   "cell_type": "markdown",
   "metadata": {},
   "source": [
    "\n",
    "classdgl.nn.pytorch.conv.GraphConv(in_feats, out_feats, norm='both', weight=True, bias=True, activation=None, allow_zero_in_degree=False)\n",
    "\n",
    "N(i)仅仅表示 指向i的所有节点的集合\n",
    "\n",
    "in_feats:h(l)大小  \n",
    "out_featsh(l+1)大小  \n",
    "\n",
    "norm:  \n",
    " (1)\"right\":\n",
    "\n",
    "weight:权值矩阵   \n",
    "bias:b(l)  \n",
    "activation:\n",
    "allow_zero_in_degree:\n",
    " 如果为False:若图中存在度为0的节点，则引发DGLError错误;\n",
    " 如果为True则不报错;"
   ]
  },
  {
   "cell_type": "markdown",
   "metadata": {},
   "source": [
    "避免0入度节点，可以加上自循环:  \n",
    "下面的方法，只对同构图有作用;  \n",
    "对于异构图，只能设置allow_zero_in_degree为True  "
   ]
  },
  {
   "cell_type": "code",
   "execution_count": null,
   "metadata": {},
   "outputs": [],
   "source": [
    "g = ... # a DGLGraph\n",
    "g = dgl.add_self_loop(g)"
   ]
  },
  {
   "cell_type": "code",
   "execution_count": 20,
   "metadata": {},
   "outputs": [
    {
     "name": "stdout",
     "output_type": "stream",
     "text": [
      "tensor([[ 0.0283, -1.9150],\n",
      "        [ 0.0312, -2.1085],\n",
      "        [ 0.0283, -1.9150],\n",
      "        [ 0.0359, -2.4244],\n",
      "        [ 0.0377, -2.5452],\n",
      "        [ 0.0221, -1.4909]], grad_fn=<MulBackward0>)\n"
     ]
    }
   ],
   "source": [
    "import dgl\n",
    "import numpy as np\n",
    "import torch as th\n",
    "from dgl.nn import GraphConv\n",
    "# Case 1: Homogeneous graph\n",
    "g = dgl.graph(([0,1,2,3,2,5], [1,2,3,4,0,3]))\n",
    "g = dgl.add_self_loop(g)\n",
    "feat = th.ones(6, 10)\n",
    "conv = GraphConv(10, 2, norm='both', weight=True,bias=False)\n",
    "res = conv(g, feat)\n",
    "print(res)"
   ]
  },
  {
   "cell_type": "code",
   "execution_count": 24,
   "metadata": {},
   "outputs": [
    {
     "name": "stdout",
     "output_type": "stream",
     "text": [
      "tensor([[0.5349, 0.2514],\n",
      "        [0.6188, 0.3478],\n",
      "        [0.8158, 0.4237],\n",
      "        [0.5349, 0.2514]], grad_fn=<AddBackward0>)\n"
     ]
    }
   ],
   "source": [
    "# Case 2: Unidirectional bipartite graph\n",
    "u = [0, 1, 0, 0, 1]\n",
    "v = [0, 1, 2, 3, 2]\n",
    "g = dgl.heterograph({('_U', '_E', '_V') : (u, v)})\n",
    "u_fea = th.rand(2, 5)\n",
    "v_fea = th.rand(4, 5)\n",
    "\n",
    "conv = GraphConv(5, 2, norm='both', weight=True, bias=True)\n",
    "res = conv(g, (u_fea, v_fea))\n",
    "print(res)"
   ]
  }
 ],
 "metadata": {
  "kernelspec": {
   "display_name": "Python 3",
   "language": "python",
   "name": "python3"
  },
  "language_info": {
   "codemirror_mode": {
    "name": "ipython",
    "version": 3
   },
   "file_extension": ".py",
   "mimetype": "text/x-python",
   "name": "python",
   "nbconvert_exporter": "python",
   "pygments_lexer": "ipython3",
   "version": "3.12.0"
  }
 },
 "nbformat": 4,
 "nbformat_minor": 2
}

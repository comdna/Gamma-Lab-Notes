{
 "cells": [
  {
   "cell_type": "markdown",
   "metadata": {},
   "source": [
    "SAGEConv()实现了 GraphSAGE 算法，用于在大型图数据上进行节点分类等任务"
   ]
  },
  {
   "cell_type": "markdown",
   "metadata": {},
   "source": [
    "# 采样\n",
    "\n",
    "需采样数量>邻居数量：对某些邻居进行多次采样  \n",
    "需采样数量<邻居数量：随机采取某些邻居  \n",
    "\n",
    "就是因为采样，而不是所有都考虑，所以在大图上，可以实现  \n"
   ]
  },
  {
   "cell_type": "markdown",
   "metadata": {},
   "source": [
    "1.将所有指向i的节点 聚合得到h'  \n",
    "\n",
    "聚合类型：  \n",
    "(1)'mean':取自身和邻居节点的特征平均    \n",
    "(2) 'gcn': 归一化临界矩阵\n",
    "h'=mean(hu/sqpt(du*dv))\n",
    "\n",
    "(3)'pool':通过MLP对每一个hu做变换，然后取最大值\n",
    "\n",
    "(4) 'lstm': 把邻居节点放到lstm网络中(目前不大懂) "
   ]
  },
  {
   "cell_type": "markdown",
   "metadata": {},
   "source": [
    "2.h'和h进行连接并执行激活函数     \n",
    "    ReLU(W*concat(h,h'))\n",
    "\n",
    "3.规范化  \n",
    "通常为None"
   ]
  },
  {
   "cell_type": "code",
   "execution_count": 48,
   "metadata": {},
   "outputs": [],
   "source": [
    "import dgl\n",
    "import numpy as np\n",
    "import torch as th\n",
    "from dgl.nn import SAGEConv"
   ]
  },
  {
   "cell_type": "code",
   "execution_count": 49,
   "metadata": {},
   "outputs": [
    {
     "name": "stdout",
     "output_type": "stream",
     "text": [
      "tensor([[ 0.7602, -0.9714],\n",
      "        [ 0.7602, -0.9714],\n",
      "        [ 0.7602, -0.9714],\n",
      "        [ 0.7602, -0.9714],\n",
      "        [ 0.7602, -0.9714],\n",
      "        [ 0.7602, -0.9714]], grad_fn=<AddBackward0>)\n"
     ]
    }
   ],
   "source": [
    "# Case 1: Homogeneous graph\n",
    "g = dgl.graph(([0,1,2,3,2,5], [1,2,3,4,0,3]))\n",
    "g = dgl.add_self_loop(g)\n",
    "feat = th.ones(6, 10)\n",
    "conv = SAGEConv(10, 2, 'pool')\n",
    "res = conv(g, feat)\n",
    "\n",
    "print(res)"
   ]
  },
  {
   "cell_type": "code",
   "execution_count": 50,
   "metadata": {},
   "outputs": [
    {
     "name": "stdout",
     "output_type": "stream",
     "text": [
      "tensor([[ 1.0660, -0.5623],\n",
      "        [ 1.9903,  0.6966],\n",
      "        [ 0.9700, -0.0907],\n",
      "        [ 1.2641, -0.1373]], grad_fn=<AddBackward0>)\n"
     ]
    }
   ],
   "source": [
    "u = [0, 1, 0, 0, 1]\n",
    "v = [0, 1, 2, 3, 2]\n",
    "\n",
    "g = dgl.heterograph({('_U', '_E', '_V'):(u, v)})\n",
    "\n",
    "u_fea = th.rand(2, 5)\n",
    "v_fea = th.rand(4, 10)\n",
    "\n",
    "# 定义GraphSAGE卷积层\n",
    "conv = SAGEConv((5, 10), 2, 'mean')\n",
    "\n",
    "# 对图进行卷积操作\n",
    "res = conv(g, (u_fea, v_fea))\n",
    "\n",
    "print(res)"
   ]
  }
 ],
 "metadata": {
  "kernelspec": {
   "display_name": "Python 3",
   "language": "python",
   "name": "python3"
  },
  "language_info": {
   "codemirror_mode": {
    "name": "ipython",
    "version": 3
   },
   "file_extension": ".py",
   "mimetype": "text/x-python",
   "name": "python",
   "nbconvert_exporter": "python",
   "pygments_lexer": "ipython3",
   "version": "3.12.0"
  }
 },
 "nbformat": 4,
 "nbformat_minor": 2
}

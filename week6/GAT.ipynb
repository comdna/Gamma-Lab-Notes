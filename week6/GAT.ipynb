{
 "cells": [
  {
   "cell_type": "markdown",
   "metadata": {},
   "source": [
    "# GAT(图注意力网络)"
   ]
  },
  {
   "cell_type": "markdown",
   "metadata": {},
   "source": [
    "计算注意力权重 alpha_(ij) 的完整公式：\n",
    "\n",
    "1. 计算注意力系数e_(ij):\n",
    "$$\n",
    "e_{ij} = \\text{LeakyReLU} \\left( \\mathbf{a}^T \\cdot [\\mathbf{W} \\mathbf{h}_i \\| \\mathbf{W} \\mathbf{h}_j] \\right)\n",
    "$$\n",
    "\n",
    "2. 通过 softmax 归一化得到权重 \\( \\alpha_{ij} \\)：\n",
    "$$\n",
    "\\alpha_{ij} = \\text{softmax}_j(e_{ij}) = \\frac{\\exp(e_{ij})}{\\sum_{k \\in \\mathcal{N}_i} \\exp(e_{ik})}\n",
    "$$\n",
    "\n",
    "3. 特征更新\n",
    "\n",
    "$$\n",
    "\\mathbf{h}_i' = \\sigma \\left( \\sum_{j \\in \\mathcal{N}_i} \\alpha_{ij} \\mathbf{W} \\mathbf{h}_j \\right)\n",
    "$$\n",
    "\n",
    "\n",
    "\n"
   ]
  },
  {
   "cell_type": "code",
   "execution_count": 1,
   "metadata": {},
   "outputs": [],
   "source": [
    "import dgl\n",
    "import numpy as np\n",
    "import torch as th\n",
    "from dgl.nn import GATConv"
   ]
  },
  {
   "cell_type": "code",
   "execution_count": 3,
   "metadata": {},
   "outputs": [
    {
     "name": "stdout",
     "output_type": "stream",
     "text": [
      "tensor([[[ 2.5840, -0.4149],\n",
      "         [ 0.8938, -0.6755],\n",
      "         [ 2.3427, -1.6740]],\n",
      "\n",
      "        [[ 2.5840, -0.4149],\n",
      "         [ 0.8938, -0.6755],\n",
      "         [ 2.3427, -1.6740]],\n",
      "\n",
      "        [[ 2.5840, -0.4149],\n",
      "         [ 0.8938, -0.6755],\n",
      "         [ 2.3427, -1.6740]],\n",
      "\n",
      "        [[ 2.5840, -0.4149],\n",
      "         [ 0.8938, -0.6755],\n",
      "         [ 2.3427, -1.6740]],\n",
      "\n",
      "        [[ 2.5840, -0.4149],\n",
      "         [ 0.8938, -0.6755],\n",
      "         [ 2.3427, -1.6740]],\n",
      "\n",
      "        [[ 2.5840, -0.4149],\n",
      "         [ 0.8938, -0.6755],\n",
      "         [ 2.3427, -1.6740]]], grad_fn=<AddBackward0>)\n"
     ]
    }
   ],
   "source": [
    "# Case 1: Homogeneous graph\n",
    "\"\"\"\n",
    "classdgl.nn.pytorch.conv.GATConv(in_feats, out_feats, num_heads, feat_drop=0.0, attn_drop=0.0, \n",
    "negative_slope=0.2, residual=False, activation=None, allow_zero_in_degree=False, bias=True)\n",
    "\"\"\"\n",
    "g = dgl.graph(([0,1,2,3,2,5], [1,2,3,4,0,3]))\n",
    "g = dgl.add_self_loop(g)\n",
    "feat = th.ones(6, 10)\n",
    "gatconv = GATConv(10, 2, num_heads=3)\n",
    "res = gatconv(g, feat)\n",
    "print(res)"
   ]
  }
 ],
 "metadata": {
  "kernelspec": {
   "display_name": "Python 3",
   "language": "python",
   "name": "python3"
  },
  "language_info": {
   "codemirror_mode": {
    "name": "ipython",
    "version": 3
   },
   "file_extension": ".py",
   "mimetype": "text/x-python",
   "name": "python",
   "nbconvert_exporter": "python",
   "pygments_lexer": "ipython3",
   "version": "3.12.0"
  }
 },
 "nbformat": 4,
 "nbformat_minor": 2
}

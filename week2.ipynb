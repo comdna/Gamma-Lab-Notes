{
  "cells": [
    {
      "cell_type": "markdown",
      "metadata": {
        "id": "hazStIkOOaYx"
      },
      "source": [
        "# Numpy和Pandas库练习"
      ]
    },
    {
      "cell_type": "code",
      "execution_count": 133,
      "metadata": {
        "id": "upFEumqSbtdD"
      },
      "outputs": [],
      "source": [
        "import numpy as np\n",
        "\n",
        "def add(x, y):\n",
        "  \"\"\"\n",
        "  Parameters\n",
        "  ----------\n",
        "  x,y: python number or numpy.array\n",
        "\n",
        "  Returns\n",
        "  -------\n",
        "  z: python number or numpy.array\n",
        "\n",
        "  \"\"\"\n",
        "  if type(x)!=np.array:\n",
        "    return x+y\n",
        "  z=np.add(x,y)\n",
        "  return z"
      ]
    },
    {
      "cell_type": "markdown",
      "metadata": {},
      "source": [
        "## Numpy库：\n",
        "$$\n",
        "x_i = \\frac{x_i}{\\sqrt{\\sum_{j=1}x_j^2}}\n",
        "$$"
      ]
    },
    {
      "cell_type": "code",
      "execution_count": 134,
      "metadata": {
        "id": "BmCOeqwkdOWS"
      },
      "outputs": [],
      "source": [
        "import math\n",
        "\n",
        "\n",
        "def norm(matrix, axis = 0):\n",
        "  \"\"\"A function to normalize a certain dimension of a matrix.\n",
        "  将矩阵的某一维数归一化的函数。\n",
        "\n",
        "  For example, if we input a matrix: np.array([[1,1,1,1],[2,2,2,2]]) \n",
        "  and axis = 1,\n",
        "  we will get a output matrix: np.array([[0.5,0.5,0.5,0.5],[0.5,0.5,0.5,0.5]])\n",
        "\n",
        "  Parameters\n",
        "  ----------\n",
        "  matrix: numpy.array\n",
        "    The input matrix of two dimensions.\n",
        "\n",
        "  Returns\n",
        "  -------\n",
        "  matrix: numpy.array\n",
        "    The normalized matrix\n",
        "  \"\"\"\n",
        "  newMatrix=[]\n",
        "  sum=0.0\n",
        "  for row in matrix:\n",
        "    sum=0.0\n",
        "    for j in row:\n",
        "      sum+=j**2\n",
        "    sum=math.sqrt(sum)\n",
        "    newRow=[]\n",
        "    for i in row:\n",
        "      newRow.append(i/sum)\n",
        "    newMatrix.append(newRow)\n",
        "  return newMatrix"
      ]
    },
    {
      "cell_type": "markdown",
      "metadata": {
        "id": "uxPfLNdgbUDa"
      },
      "source": [
        "Run the following code to get the dataset of this work."
      ]
    },
    {
      "cell_type": "code",
      "execution_count": 135,
      "metadata": {
        "colab": {
          "base_uri": "https://localhost:8080/"
        },
        "id": "-IvlQTfyOX_v",
        "outputId": "99a975d4-9a15-4d84-c484-d68e70bc6b7b"
      },
      "outputs": [
        {
          "data": {
            "text/plain": [
              "\"\\nfrom google.colab import drive\\ndrive.mount('/content/drive')\\n%cd /content/drive/MyDrive/\\n!mkdir -p week2\\n%cd /content/drive/MyDrive/week2\\n!git clone https://github.com/dddg617/interns\\n%cd /content/drive/MyDrive/week2/interns/weekly work/week2/data\\n\""
            ]
          },
          "execution_count": 135,
          "metadata": {},
          "output_type": "execute_result"
        }
      ],
      "source": [
        "\"\"\"\n",
        "from google.colab import drive\n",
        "drive.mount('/content/drive')\n",
        "%cd /content/drive/MyDrive/\n",
        "!mkdir -p week2\n",
        "%cd /content/drive/MyDrive/week2\n",
        "!git clone https://github.com/dddg617/interns\n",
        "%cd /content/drive/MyDrive/week2/interns/weekly work/week2/data\n",
        "\"\"\""
      ]
    },
    {
      "cell_type": "markdown",
      "metadata": {
        "id": "eu30340TfvrS"
      },
      "source": [
        "## pandas库 处理 dataset2.csv"
      ]
    },
    {
      "cell_type": "code",
      "execution_count": 136,
      "metadata": {
        "id": "Jwp1Gh2Tf2RH"
      },
      "outputs": [],
      "source": [
        "import pandas as pd\n",
        "\n",
        "def load_data():\n",
        "   \"\"\"\n",
        "   1. 在这个函数中,您应该加载名为“dataset.csv”的数据集。\n",
        "   2. 您需要删除包含空数据的行。\n",
        "      假设行数为R。\n",
        "   3. 需要处理带有“_”的异常数据。\n",
        "      例如,您应该将“101_”替换为“101”。\n",
        "   4. 你应该计算每一列的平均数。\n",
        "      结果应该添加到原始的“DataFrame”中。\n",
        "      这意味着,你返回的列数应该是R+1。\n",
        "      \n",
        "   Returns\n",
        "   -------\n",
        "   data: pandas.DataFrame\n",
        "      The processed data following the instructions.\n",
        "   \"\"\"\n",
        "   data=pd.read_csv('dataset.csv')\n",
        "\n",
        "   # 处理带有\"_\"的异常数据，删除下划线\n",
        "   data.replace(r'_', '', regex=True, inplace=True)\n",
        "\n",
        "   # 将处理后的空串标记为NaN\n",
        "   data.replace('', np.nan, inplace=True)\n",
        "\n",
        "   # 删除包含空数据的行\n",
        "   data.dropna(inplace=True)\n",
        "\n",
        "   # 转换数据类型为float64\n",
        "   data = data.astype(float)\n",
        "\n",
        "   # 计算每一列的平均值，并添加到新列表中\n",
        "   avg_values = data.mean().tolist()\n",
        "\n",
        "   # 创建包含平均值的DataFrame，并将其与原始数据连接起来\n",
        "   avg_data = pd.DataFrame([avg_values], columns=data.columns)\n",
        "   data = pd.concat([data, avg_data], ignore_index=True)\n",
        "\n",
        "   return data"
      ]
    },
    {
      "cell_type": "markdown",
      "metadata": {
        "id": "WmTdza14i3gr"
      },
      "source": [
        "After you implement these functions, you may run the following code to check your answer."
      ]
    },
    {
      "cell_type": "code",
      "execution_count": 137,
      "metadata": {
        "id": "-bqRtnnPi9Ki"
      },
      "outputs": [
        {
          "name": "stdout",
          "output_type": "stream",
          "text": [
            "     Annual_Income  Num_of_Loan  Num_of_Delayed_Payment  Changed_Credit_Limit  \\\n",
            "0     31633.540000     3.000000                6.000000             12.700000   \n",
            "1     33446.440000     6.000000               19.000000             22.450000   \n",
            "2     60938.130000     8.000000               18.000000             12.490000   \n",
            "3     73057.160000     2.000000               14.000000             10.000000   \n",
            "4     62848.880000     5.000000               19.000000             15.340000   \n",
            "..             ...          ...                     ...                   ...   \n",
            "323   81760.000000     3.000000               21.000000              4.710000   \n",
            "324   18207.570000  -100.000000               18.000000              9.700000   \n",
            "325   78162.720000     4.000000               22.000000              3.280000   \n",
            "326   36941.920000     9.000000               16.000000              6.740000   \n",
            "327  293734.696636     1.993884               29.373089              9.994159   \n",
            "\n",
            "     Outstanding_Debt  Amount_invested_monthly  Monthly_Balance  \n",
            "0           846.45000               275.759795       246.484598  \n",
            "1          2953.68000                93.650442       348.813987  \n",
            "2          3947.24000               166.487676       231.525400  \n",
            "3          2569.09000                66.232154       692.223325  \n",
            "4          2680.87000               206.017262       317.267904  \n",
            "..                ...                      ...              ...  \n",
            "323        2604.66000               205.078630       628.576071  \n",
            "324        2310.54000               130.950892       217.612096  \n",
            "325        2237.69000               379.316190       360.131716  \n",
            "326        2634.50000               235.530317       183.360123  \n",
            "327        1739.48737               794.761706       388.989061  \n",
            "\n",
            "[328 rows x 7 columns]\n",
            "[2.93734697e+05 1.99388379e+00 2.93730887e+01 9.99415902e+00\n",
            " 1.73948737e+03 7.94761706e+02 3.88989061e+02]\n"
          ]
        }
      ],
      "source": [
        "assert add(5,6) == 11\n",
        "assert add(3.2,1.0) == 4.2\n",
        "assert type(add(4., 4)) == float\n",
        "np.testing.assert_allclose(add(np.array([1,2]), np.array([3,4])),\n",
        "                np.array([4,6]))\n",
        "\n",
        "data = np.array([[2, 4, 6], [1, 3, 5], [3, 6, 9]])\n",
        "normalized_data = norm(data, axis=1)\n",
        "assert np.allclose(normalized_data, [[0.26726124, 0.53452248, 0.80178373],\n",
        "                    [0.16903085, 0.50709255, 0.84515425],\n",
        "                    [0.26726124, 0.53452248, 0.80178373]])\n",
        "\n",
        "\n",
        "data = load_data()\n",
        "\n",
        "print(data)\n",
        "#导出data\n",
        "data.to_csv('data.csv', index=False)\n",
        "assert len(data) == 328\n",
        "\n",
        "print(data.values[-1])\n",
        "\n",
        "for column in data.columns:\n",
        "  assert np.allclose(data.values[-1], [293734.71875, 1.9938838481903076, 29.373088836669922,\n",
        "                      9.994159698486328, 1739.4874267578125, 794.76171875, 388.9890441894531])\n"
      ]
    }
  ],
  "metadata": {
    "colab": {
      "provenance": []
    },
    "kernelspec": {
      "display_name": "Python 3",
      "name": "python3"
    },
    "language_info": {
      "codemirror_mode": {
        "name": "ipython",
        "version": 3
      },
      "file_extension": ".py",
      "mimetype": "text/x-python",
      "name": "python",
      "nbconvert_exporter": "python",
      "pygments_lexer": "ipython3",
      "version": "3.12.0"
    }
  },
  "nbformat": 4,
  "nbformat_minor": 0
}

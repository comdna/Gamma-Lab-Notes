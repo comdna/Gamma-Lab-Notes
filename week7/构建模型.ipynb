{
 "cells": [
  {
   "cell_type": "markdown",
   "metadata": {},
   "source": [
    "# init\n",
    "\n",
    "(1)接受参数  \n",
    "(2)创建学习层、线性转换层等  \n",
    "(3)重设参数 def reset_parameters(self):"
   ]
  },
  {
   "cell_type": "code",
   "execution_count": null,
   "metadata": {},
   "outputs": [],
   "source": []
  },
  {
   "cell_type": "markdown",
   "metadata": {},
   "source": [
    "# forward()\n",
    "\n",
    "1.规范检查  \n",
    "2.消息传递  \n",
    "3.更新(norm ReLU)  "
   ]
  },
  {
   "cell_type": "markdown",
   "metadata": {},
   "source": [
    "# 异构图 构建HeteroGraphConv"
   ]
  },
  {
   "cell_type": "markdown",
   "metadata": {},
   "source": [
    "HeteroGraphConv 的工作原理如下：\n",
    "\n",
    "它接受一个异质图和一个节点特征字典作为输入  \n",
    "节点特征字典的键是节点类型，值是对应节点类型的特征矩阵  \n",
    "\n",
    "对于图中的每种边类型，HeteroGraphConv 应用一个用户定义的卷积模块（例如，GraphConv、SAGEConv 等）来更新源节点和目标节点的特征。  \n",
    "它聚合来自不同边类型的消息，为每种节点类型生成新的特征矩阵  \n",
    "最后，它返回一个包含所有节点类型的新特征矩阵的字典  "
   ]
  },
  {
   "cell_type": "code",
   "execution_count": 13,
   "metadata": {},
   "outputs": [],
   "source": [
    "import dgl\n",
    "import torch\n",
    "import dgl.nn as dglnn\n",
    "from dgl.nn import HeteroGraphConv"
   ]
  },
  {
   "cell_type": "code",
   "execution_count": 14,
   "metadata": {},
   "outputs": [
    {
     "name": "stdout",
     "output_type": "stream",
     "text": [
      "{'game': tensor([[-0.4186, -0.0787,  0.2078,  0.1346,  0.0228, -0.3238,  0.4192,  0.1570,\n",
      "         -1.0262,  1.1738, -0.2227,  0.4517, -0.6732, -0.5751,  0.4685, -1.1541,\n",
      "          0.9681,  0.3694,  0.0205, -0.5689],\n",
      "        [ 0.9645,  0.2925,  1.6513,  0.6263, -0.2770,  0.3604,  0.3153,  0.0377,\n",
      "         -0.7422, -1.0357, -1.5241, -0.3054, -0.5326,  0.7953,  0.2911, -0.6869,\n",
      "          0.0489,  1.5596,  0.1493, -1.2439],\n",
      "        [ 0.3110, -2.4573, -0.3757,  1.0528,  0.9912,  0.7038,  1.6694, -1.0276,\n",
      "         -1.6601,  0.8026,  0.3320,  0.2934, -0.6434, -1.3492,  0.3117, -0.6945,\n",
      "          0.6976,  1.4285, -1.3700, -1.3188],\n",
      "        [ 0.3013, -1.4782, -0.5431,  0.9906,  0.6119, -0.8032,  1.7863, -0.7437,\n",
      "          0.5779,  0.3741,  1.7158, -1.5371, -0.0712, -0.7305,  0.3376,  0.0762,\n",
      "          0.2163,  0.4033, -0.7931,  0.4584]], grad_fn=<SumBackward1>), 'user': tensor([[ 0.0293,  0.1164, -0.4904,  0.5563, -0.2621,  0.0718,  0.2468,  0.8792,\n",
      "         -0.3826, -0.4367,  0.0502,  0.0647,  1.0438, -0.2463,  0.4685,  0.2215,\n",
      "         -0.4708,  0.3892,  0.3194,  0.7471],\n",
      "        [-0.1359,  0.3239,  1.3852, -0.8657, -0.7133,  0.2739,  0.5112,  0.3054,\n",
      "         -1.3952,  0.3690,  1.9994,  0.7208, -0.4499,  0.4150, -0.5890,  0.2675,\n",
      "         -0.6983, -0.5785, -0.3519, -0.1978],\n",
      "        [-0.4710, -0.2045, -0.5674, -0.1377, -0.2828, -0.6206, -1.6346, -1.1401,\n",
      "          1.4161,  0.3804,  0.0465,  0.1545,  0.8485,  1.7435,  1.6749,  0.0096,\n",
      "          1.0047,  0.4094,  1.1090,  0.6354],\n",
      "        [ 0.8225, -1.2767, -1.0340,  0.6643,  0.7487,  0.4051,  0.1808, -1.8641,\n",
      "          1.6893,  0.5237, -0.3723, -0.3697,  0.3464,  2.1708,  0.4520, -0.3909,\n",
      "          0.8244,  1.2983,  0.8321, -0.9295]], grad_fn=<SumBackward1>)}\n"
     ]
    }
   ],
   "source": [
    "# 定义一个异质图卷积层\n",
    "conv = HeteroGraphConv({\n",
    "    'follows': dglnn.GraphConv(10, 20),\n",
    "    'plays': dglnn.GraphConv(10, 20)\n",
    "})\n",
    "\n",
    "# 创建一个DGL异质图对象g和一个节点特征字典features\n",
    "# 假设我们有以下边关系\n",
    "edges_follows = torch.tensor([0, 1, 2, 3])  # 源节点\n",
    "edges_plays = torch.tensor([0, 1, 2, 3])    # 目标节点\n",
    "edges_types = torch.tensor([0, 0, 1, 1])    # 边类型（0表示follows，1表示plays）\n",
    "\n",
    "# 创建异质图\n",
    "g = dgl.heterograph({\n",
    "    ('user', 'follows', 'user'): (edges_follows, edges_follows),\n",
    "    ('user', 'plays', 'game'): (edges_plays, edges_plays)\n",
    "})\n",
    "\n",
    "\n",
    "# 创建节点特征\n",
    "features = {\n",
    "    'user': torch.randn((g.num_nodes('user'), 10)),\n",
    "    'game': torch.randn((g.num_nodes('game'), 10))\n",
    "}\n",
    "\n",
    "# 使用异质图卷积层进行前向传播\n",
    "new_features = conv(g, features)\n",
    "print(new_features)"
   ]
  }
 ],
 "metadata": {
  "kernelspec": {
   "display_name": "Python 3",
   "language": "python",
   "name": "python3"
  },
  "language_info": {
   "codemirror_mode": {
    "name": "ipython",
    "version": 3
   },
   "file_extension": ".py",
   "mimetype": "text/x-python",
   "name": "python",
   "nbconvert_exporter": "python",
   "pygments_lexer": "ipython3",
   "version": "3.12.0"
  }
 },
 "nbformat": 4,
 "nbformat_minor": 2
}

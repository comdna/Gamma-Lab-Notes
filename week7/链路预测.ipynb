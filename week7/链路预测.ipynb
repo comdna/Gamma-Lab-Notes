{
 "cells": [
  {
   "cell_type": "markdown",
   "metadata": {},
   "source": [
    "# 链路预测\n",
    "\n",
    "给定两个节点，预测两个节点之间有没有边\n",
    "\n",
    "# 负采样  \n",
    "确定已知边的所有节点，组成正样本  \n",
    "每个源节点，随机选取节点作为负样本\n",
    "\n",
    "实现如下:  "
   ]
  },
  {
   "cell_type": "code",
   "execution_count": 21,
   "metadata": {},
   "outputs": [],
   "source": [
    "import torch\n",
    "import dgl\n",
    "import torch.nn as nn\n",
    "import numpy as np"
   ]
  },
  {
   "cell_type": "code",
   "execution_count": 22,
   "metadata": {},
   "outputs": [],
   "source": [
    "def construct_negative_graph(graph, k):\n",
    "    # 每个边生成k个负采样样本\n",
    "    src, dst = graph.edges()\n",
    "    neg_src = src.repeat_interleave(k)\n",
    "    neg_dst = torch.randint(0, graph.num_nodes(), (len(src) * k,))\n",
    "    return dgl.graph((neg_src, neg_dst), num_nodes=graph.num_nodes())"
   ]
  },
  {
   "cell_type": "code",
   "execution_count": 23,
   "metadata": {},
   "outputs": [],
   "source": [
    "import dgl.function as fn\n",
    "class DotProductPredictor(nn.Module):\n",
    "    def forward(self, graph, h):\n",
    "        # h contains the node representations computed from the GNN defined\n",
    "        # in the node classification section (Section 5.1).\n",
    "        with graph.local_scope():\n",
    "            graph.ndata['h'] = h\n",
    "            graph.apply_edges(fn.u_dot_v('h', 'h', 'score'))\n",
    "            return graph.edata['score']\n",
    "\n",
    "class SAGE(nn.Module):\n",
    "    def __init__(self, in_features, hidden_features, out_features):\n",
    "        super().__init__()\n",
    "        # 定义模型的具体结构，例如多个线性层和激活函数\n",
    "        self.layers = nn.ModuleList([\n",
    "            nn.Linear(in_features, hidden_features),\n",
    "            nn.ReLU(),\n",
    "            nn.Linear(hidden_features, out_features)\n",
    "        ])\n",
    "\n",
    "    def forward(self, g, x):\n",
    "        # 实现图数据的前向传播\n",
    "        for layer in self.layers:\n",
    "            x = layer(x)\n",
    "        return x\n",
    "\n",
    "class Model(nn.Module):\n",
    "    def __init__(self, in_features, hidden_features, out_features):\n",
    "        super().__init__()\n",
    "        self.sage = SAGE(in_features, hidden_features, out_features)\n",
    "        self.pred = DotProductPredictor()\n",
    "    def forward(self, g, neg_g, x):\n",
    "        h = self.sage(g, x)\n",
    "        return self.pred(g, h), self.pred(neg_g, h)"
   ]
  },
  {
   "cell_type": "code",
   "execution_count": 24,
   "metadata": {},
   "outputs": [],
   "source": [
    "def compute_loss(pos_score, neg_score):\n",
    "    # 间隔损失\n",
    "    n_edges = pos_score.shape[0]\n",
    "    return (1 - pos_score.unsqueeze(1) + neg_score.view(n_edges, -1)).clamp(min=0).mean()"
   ]
  },
  {
   "cell_type": "code",
   "execution_count": 25,
   "metadata": {},
   "outputs": [
    {
     "name": "stdout",
     "output_type": "stream",
     "text": [
      "  NumNodes: 3327\n",
      "  NumEdges: 9228\n",
      "  NumFeats: 3703\n",
      "  NumClasses: 6\n",
      "  NumTrainingSamples: 120\n",
      "  NumValidationSamples: 500\n",
      "  NumTestSamples: 1000\n",
      "Done loading data from cached files.\n",
      "Graph(num_nodes=3327, num_edges=46140,\n",
      "      ndata_schemes={}\n",
      "      edata_schemes={})\n",
      "0.9999901652336121\n",
      "Graph(num_nodes=3327, num_edges=46140,\n",
      "      ndata_schemes={}\n",
      "      edata_schemes={})\n",
      "0.9996460676193237\n"
     ]
    }
   ],
   "source": [
    "dataset=dgl.data.CiteseerGraphDataset()\n",
    "graph=dataset[0]\n",
    "node_features = graph.ndata['feat']\n",
    "n_features = node_features.shape[1]\n",
    "k = 5\n",
    "model = Model(n_features, 100, 100)\n",
    "opt = torch.optim.Adam(model.parameters())\n",
    "for epoch in range(2):\n",
    "    negative_graph = construct_negative_graph(graph, k)\n",
    "    print(negative_graph)\n",
    "    pos_score, neg_score = model(graph, negative_graph, node_features)\n",
    "    loss = compute_loss(pos_score, neg_score)\n",
    "    opt.zero_grad()\n",
    "    loss.backward()\n",
    "    opt.step()\n",
    "    print(loss.item())"
   ]
  },
  {
   "cell_type": "code",
   "execution_count": 27,
   "metadata": {},
   "outputs": [
    {
     "name": "stdout",
     "output_type": "stream",
     "text": [
      "tensor([ 0.0260, -0.0329, -0.0731,  0.0776,  0.0530, -0.0408,  0.0330,  0.0058,\n",
      "        -0.0871,  0.0825, -0.0064,  0.0271,  0.0863,  0.0952, -0.0990,  0.0908,\n",
      "        -0.1024, -0.0319,  0.0936, -0.0856,  0.0683,  0.0523,  0.0714, -0.0238,\n",
      "         0.0259,  0.0970,  0.0190,  0.0052, -0.0721, -0.0275, -0.0562, -0.0294,\n",
      "        -0.0717, -0.0064, -0.0307,  0.0978,  0.0197,  0.0734, -0.0373, -0.0694,\n",
      "        -0.0831, -0.0556,  0.0809, -0.0593,  0.0630,  0.0694,  0.0074,  0.0430,\n",
      "         0.0245, -0.0051,  0.0976, -0.0670, -0.0213, -0.0802,  0.0912,  0.0341,\n",
      "        -0.0620,  0.0745, -0.0718, -0.0968,  0.0870, -0.0324, -0.0786, -0.0785,\n",
      "        -0.0366,  0.0567, -0.0058, -0.0109,  0.0714,  0.0661, -0.0844, -0.0333,\n",
      "         0.0798, -0.0249,  0.0546, -0.0656, -0.0011, -0.0432, -0.0754,  0.1029,\n",
      "        -0.0164, -0.0683, -0.0565, -0.0832, -0.0385,  0.0259, -0.0928,  0.0224,\n",
      "         0.0868,  0.0173,  0.0581, -0.0587, -0.0322,  0.0279,  0.0708, -0.0845,\n",
      "         0.0441, -0.0203,  0.0631, -0.0024], grad_fn=<SelectBackward0>)\n",
      "tensor([[ 0.0260, -0.0329, -0.0731,  ..., -0.0203,  0.0631, -0.0024],\n",
      "        [ 0.0261, -0.0310, -0.0737,  ..., -0.0204,  0.0637, -0.0015],\n",
      "        [ 0.0280, -0.0328, -0.0726,  ..., -0.0199,  0.0615, -0.0031],\n",
      "        ...,\n",
      "        [ 0.0263, -0.0305, -0.0731,  ..., -0.0201,  0.0637, -0.0017],\n",
      "        [ 0.0254, -0.0329, -0.0728,  ..., -0.0202,  0.0627, -0.0013],\n",
      "        [ 0.0267, -0.0309, -0.0720,  ..., -0.0227,  0.0616, -0.0022]],\n",
      "       grad_fn=<AddmmBackward0>)\n"
     ]
    }
   ],
   "source": [
    "node_embeddings = model.sage(graph, node_features)\n",
    "print(node_embeddings[0])\n",
    "print(node_embeddings)"
   ]
  }
 ],
 "metadata": {
  "kernelspec": {
   "display_name": "Python 3",
   "language": "python",
   "name": "python3"
  },
  "language_info": {
   "codemirror_mode": {
    "name": "ipython",
    "version": 3
   },
   "file_extension": ".py",
   "mimetype": "text/x-python",
   "name": "python",
   "nbconvert_exporter": "python",
   "pygments_lexer": "ipython3",
   "version": "3.12.0"
  }
 },
 "nbformat": 4,
 "nbformat_minor": 2
}

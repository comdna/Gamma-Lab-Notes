{
 "cells": [
  {
   "cell_type": "markdown",
   "metadata": {},
   "source": [
    "# 无边权使用消息传递\n",
    "\n",
    "```\n",
    "\n",
    "import dgl.function as fn\n",
    "\n",
    "# 对于每一对u->v,graph.ndata['ft']为u的特征\n",
    "# 1.把u的特征复制到'm'特征中，然后对每个v，把所有的特征相加,变为v的特征\n",
    "graph.update_all(fn.copy_u('ft', 'm'), fn.sum('m', 'ft'))\n",
    "```"
   ]
  },
  {
   "cell_type": "code",
   "execution_count": null,
   "metadata": {},
   "outputs": [],
   "source": [
    "import dgl\n",
    "import torch\n",
    "import dgl.function as fn\n",
    "\n",
    "# 将边权重保存为一个边特征。边权重是一个形状为(E, *)的张量。\n",
    "# E是边的数量\n",
    "graph.edata['w'] = eweight\n",
    "\n",
    "# 假定graph.ndata['ft']存储了输入节点特征\n",
    "# 把节点和边的特征相乘得到的特征向量存储在'm'中（如果没法实现相乘，则通过广播机制、线性变换）\n",
    "graph.update_all(fn.u_mul_e('ft', 'w', 'm'), fn.sum('m', 'ft'))"
   ]
  }
 ],
 "metadata": {
  "language_info": {
   "name": "python"
  }
 },
 "nbformat": 4,
 "nbformat_minor": 2
}

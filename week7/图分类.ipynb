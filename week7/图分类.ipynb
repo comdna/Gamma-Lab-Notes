{
 "cells": [
  {
   "cell_type": "markdown",
   "metadata": {},
   "source": [
    "# 图分类\n",
    "\n",
    "流程：每个图进行消息传递，更新节点和边特征 -> 每张图都进行边和节点的聚合，形成一个表示 -> 放入分类层（需根据任务自己设计）\n",
    "\n",
    "图分类通常按批次进行训练\n",
    "\n",
    "# 图读出\n",
    "\n",
    "每个图尽可能多的汇聚信息，常用方法：所有节点/边特征求和、求平均值、取最大、取最小……  \n",
    "\n",
    "$$  \n",
    "h_g = 1/n (h_1 + h_2 + h_3 + ... + h_n )\n",
    "$$\n",
    "\n",
    "DGL内置了常见的图读出函数，例如 dgl.mean_nodes() 就实现了上述的平均值读出计算。在得到图的特征hg后，用户可将其传给一个多层感知机(MLP)来获得分类输出。"
   ]
  },
  {
   "cell_type": "code",
   "execution_count": 18,
   "metadata": {},
   "outputs": [
    {
     "data": {
      "text/plain": [
       "tensor([3., 6.])"
      ]
     },
     "execution_count": 18,
     "metadata": {},
     "output_type": "execute_result"
    }
   ],
   "source": [
    "import dgl\n",
    "import torch\n",
    "\n",
    "g1 = dgl.graph(([0, 1], [1, 0]))\n",
    "g1.ndata['h'] = torch.tensor([1., 2.])\n",
    "g2 = dgl.graph(([0, 1], [1, 2]))\n",
    "g2.ndata['h'] = torch.tensor([1., 2., 3.])\n",
    "\n",
    "dgl.readout_nodes(g1, 'h')\n",
    "# tensor([3.])  # 1 + 2\n",
    "\n",
    "bg = dgl.batch([g1, g2])\n",
    "dgl.readout_nodes(bg, 'h')\n",
    "# tensor([3., 6.])  # [1 + 2, 1 + 2 + 3]"
   ]
  },
  {
   "cell_type": "markdown",
   "metadata": {},
   "source": [
    "# 同构图完整过程\n",
    "\n"
   ]
  },
  {
   "cell_type": "code",
   "execution_count": 19,
   "metadata": {},
   "outputs": [],
   "source": [
    "import dgl.nn.pytorch as dglnn\n",
    "import torch.nn as nn\n",
    "\n",
    "class Classifier(nn.Module):\n",
    "    def __init__(self, in_dim, hidden_dim, n_classes):\n",
    "        super(Classifier, self).__init__()\n",
    "        self.conv1 = dglnn.GraphConv(in_dim, hidden_dim)\n",
    "        self.conv2 = dglnn.GraphConv(hidden_dim, hidden_dim)\n",
    "        self.classify = nn.Linear(hidden_dim, n_classes)\n",
    "\n",
    "    def forward(self, g, h):\n",
    "        # 应用图卷积和激活函数\n",
    "        h = F.relu(self.conv1(g, h))\n",
    "        h = F.relu(self.conv2(g, h))\n",
    "        with g.local_scope():\n",
    "            g.ndata['h'] = h\n",
    "            # 使用平均读出计算图表示\n",
    "            hg = dgl.mean_nodes(g, 'h')\n",
    "            return self.classify(hg)"
   ]
  },
  {
   "cell_type": "code",
   "execution_count": 20,
   "metadata": {},
   "outputs": [],
   "source": [
    "import dgl.data\n",
    "dataset = dgl.data.GINDataset('MUTAG', False)\n",
    "\n",
    "from dgl.dataloading import GraphDataLoader\n",
    "dataloader = GraphDataLoader(\n",
    "    dataset,\n",
    "    batch_size=1024,\n",
    "    drop_last=False,\n",
    "    shuffle=True)"
   ]
  },
  {
   "cell_type": "code",
   "execution_count": 21,
   "metadata": {},
   "outputs": [
    {
     "name": "stdout",
     "output_type": "stream",
     "text": [
      "0.0:  损失1.7097\n",
      "1.0:  损失1.7047\n",
      "2.0:  损失1.6999\n",
      "3.0:  损失1.6950\n",
      "4.0:  损失1.6902\n",
      "5.0:  损失1.6855\n",
      "6.0:  损失1.6808\n",
      "7.0:  损失1.6762\n",
      "8.0:  损失1.6716\n",
      "9.0:  损失1.6670\n",
      "10.0:  损失1.6625\n",
      "11.0:  损失1.6582\n",
      "12.0:  损失1.6538\n",
      "13.0:  损失1.6495\n",
      "14.0:  损失1.6452\n",
      "15.0:  损失1.6410\n",
      "16.0:  损失1.6368\n",
      "17.0:  损失1.6327\n",
      "18.0:  损失1.6284\n",
      "19.0:  损失1.6241\n"
     ]
    }
   ],
   "source": [
    "import torch.nn.functional as F\n",
    "\n",
    "# 这仅是个例子，特征尺寸是7\n",
    "model = Classifier(7, 20, 5)\n",
    "opt = torch.optim.Adam(model.parameters())\n",
    "for epoch in range(20):\n",
    "    for batched_graph, labels in dataloader:\n",
    "        feats = batched_graph.ndata['attr']\n",
    "        logits = model(batched_graph, feats)\n",
    "        loss = F.cross_entropy(logits, labels)\n",
    "        opt.zero_grad()\n",
    "        loss.backward()\n",
    "        opt.step()\n",
    "        print(\"{:.1f}:  损失{:.4f}\".format(epoch, loss.item()))"
   ]
  },
  {
   "cell_type": "markdown",
   "metadata": {},
   "source": [
    "# 异构图:在一张图上需要把不同类别的节点都聚合\n",
    "\n",
    "区别：\n",
    "（1）使用的GNN层的类型不太一样  \n",
    "（2）在分类模型forward()时，需要把每种节点的平均加一起"
   ]
  },
  {
   "cell_type": "code",
   "execution_count": null,
   "metadata": {},
   "outputs": [],
   "source": [
    "class RGCN(nn.Module):\n",
    "    def __init__(self, in_feats, hid_feats, out_feats, rel_names):\n",
    "        super().__init__()\n",
    "        self.conv1 = dglnn.HeteroGraphConv({\n",
    "            rel: dglnn.GraphConv(in_feats, hid_feats)\n",
    "            for rel in rel_names}, aggregate='sum')\n",
    "        self.conv2 = dglnn.HeteroGraphConv({\n",
    "            rel: dglnn.GraphConv(hid_feats, out_feats)\n",
    "            for rel in rel_names}, aggregate='sum')\n",
    "\n",
    "    def forward(self, graph, inputs):\n",
    "        # inputs是节点的特征\n",
    "        h = self.conv1(graph, inputs)\n",
    "        h = {k: F.relu(v) for k, v in h.items()}\n",
    "        h = self.conv2(graph, h)\n",
    "        return h\n",
    "\n",
    "class HeteroClassifier(nn.Module):\n",
    "    def __init__(self, in_dim, hidden_dim, n_classes, rel_names):\n",
    "        super().__init__()\n",
    "        self.rgcn = RGCN(in_dim, hidden_dim, hidden_dim, rel_names)\n",
    "        self.classify = nn.Linear(hidden_dim, n_classes)\n",
    "\n",
    "    def forward(self, g):\n",
    "        h = g.ndata['feat']\n",
    "        h = self.rgcn(g, h)\n",
    "        with g.local_scope():\n",
    "            g.ndata['h'] = h\n",
    "            # 通过平均读出值来计算单图的表征\n",
    "            hg = 0\n",
    "            for ntype in g.ntypes:\n",
    "                hg = hg + dgl.mean_nodes(g, 'h', ntype=ntype)\n",
    "            return self.classify(hg)"
   ]
  }
 ],
 "metadata": {
  "kernelspec": {
   "display_name": "Python 3",
   "language": "python",
   "name": "python3"
  },
  "language_info": {
   "codemirror_mode": {
    "name": "ipython",
    "version": 3
   },
   "file_extension": ".py",
   "mimetype": "text/x-python",
   "name": "python",
   "nbconvert_exporter": "python",
   "pygments_lexer": "ipython3",
   "version": "3.12.0"
  }
 },
 "nbformat": 4,
 "nbformat_minor": 2
}

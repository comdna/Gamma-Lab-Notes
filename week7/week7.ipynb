{
  "cells": [
    {
      "cell_type": "markdown",
      "metadata": {
        "id": "_AfnlcwOWS5l"
      },
      "source": [
        "In this work, you are required to build a GNN training pipline. Then you can truly use the Graph Neural Network."
      ]
    },
    {
      "cell_type": "code",
      "execution_count": 432,
      "metadata": {
        "id": "7H0-sw8zbcrn"
      },
      "outputs": [],
      "source": [
        "# !pip install  dgl -f https://data.dgl.ai/wheels/repo.html\n",
        "# !pip install torch_geometric\n",
        "# !pip install pyg_lib torch_scatter torch_sparse torch_cluster torch_spline_conv -f https://data.pyg.org/whl/torch-2.0.1+cpu.html"
      ]
    },
    {
      "cell_type": "markdown",
      "metadata": {
        "id": "Ex3YFUE3Whks"
      },
      "source": [
        "First, we need to download the dataset and load data."
      ]
    },
    {
      "cell_type": "code",
      "execution_count": 433,
      "metadata": {
        "id": "jLg7RaF6WRTt"
      },
      "outputs": [],
      "source": [
        "import torch_geometric.transforms as T\n",
        "import torch.nn.functional as F\n",
        "import torch.nn as nn\n",
        "from torch_geometric.datasets import Planetoid\n",
        "from torch_geometric.nn import MessagePassing\n",
        "\n",
        "\n",
        "dataset = Planetoid(\"./\", \"Cora\", transform=T.NormalizeFeatures())\n",
        "data = dataset[0]\n",
        "\n",
        "x = data.x\n",
        "edge_index = data.edge_index\n",
        "edge_weight = data.edge_weight"
      ]
    },
    {
      "cell_type": "markdown",
      "metadata": {
        "id": "0MA85AI9b8yX"
      },
      "source": [
        "Then, you need to implement a GNN model. You may copy the GCNConv from your work two weeks ago, and build the model with the convolution layers.\n",
        "\n",
        "然后，您需要实现一个GNN模型。您可以从两周前的工作中复制GCNConv，并使用卷积层构建模型。"
      ]
    },
    {
      "cell_type": "code",
      "execution_count": 434,
      "metadata": {
        "id": "B4La5uI1cQQA"
      },
      "outputs": [],
      "source": [
        "class PyG_GCNConv(MessagePassing):\n",
        "    def __init__(self, in_features, out_features):\n",
        "        super(PyG_GCNConv, self).__init__(aggr='add')\n",
        "        self.linear = nn.Linear(in_features, out_features)\n",
        "\n",
        "    def forward(self, x, edge_index):\n",
        "        return self.propagate(edge_index, x=x, size=None)\n",
        "\n",
        "    def message(self, x_j):\n",
        "        return x_j\n",
        "\n",
        "    def update(self, aggr_out):\n",
        "        return F.relu(self.linear(aggr_out))\n",
        "\n",
        "class PyG_GCN(nn.Module):\n",
        "    def __init__(self, in_features, hidden_features, num_classes):\n",
        "        super(PyG_GCN, self).__init__()\n",
        "        self.conv1 = PyG_GCNConv(in_features, hidden_features)\n",
        "        self.conv2 = PyG_GCNConv(hidden_features, num_classes)\n",
        "\n",
        "    def forward(self, x, edge_index):\n",
        "        x = F.relu(self.conv1(x, edge_index))\n",
        "        x = self.conv2(x, edge_index)\n",
        "        return x"
      ]
    },
    {
      "cell_type": "code",
      "execution_count": 435,
      "metadata": {
        "id": "aMlTRvwGcmFw"
      },
      "outputs": [
        {
          "name": "stdout",
          "output_type": "stream",
          "text": [
            "Epoch: 000, Loss: 1.9529, Train: 0.2071, Val: 0.1120, Test: 0.1180\n",
            "Epoch: 050, Loss: 1.4418, Train: 0.6286, Val: 0.4380, Test: 0.4270\n",
            "Epoch: 100, Loss: 1.1817, Train: 0.6714, Val: 0.4400, Test: 0.4510\n",
            "Epoch: 150, Loss: 1.0134, Train: 0.7000, Val: 0.4700, Test: 0.4550\n",
            "Epoch: 200, Loss: 0.9003, Train: 0.7000, Val: 0.4740, Test: 0.4560\n",
            "Epoch: 250, Loss: 0.8224, Train: 0.7000, Val: 0.4740, Test: 0.4560\n",
            "Best validation accuracy: 0.4740\n",
            "Test accuracy: 0.4560\n"
          ]
        }
      ],
      "source": [
        "from numpy import double\n",
        "from torch_geometric.logging import log\n",
        "import torch\n",
        "\n",
        "hidden_dim = 13\n",
        "lr = 0.001\n",
        "epochs = 100\n",
        "model = PyG_GCN(dataset.num_features, hidden_dim, dataset.num_classes)\n",
        "optimizer = torch.optim.Adam(model.parameters(), lr=lr, weight_decay=5e-4)\n",
        "\n",
        "def train():\n",
        "    model.train()\n",
        "    optimizer.zero_grad()\n",
        "    out = model(data.x, data.edge_index)\n",
        "    loss = F.cross_entropy(out[data.train_mask], data.y[data.train_mask])\n",
        "    loss.backward()\n",
        "    optimizer.step()\n",
        "    return loss.item()\n",
        "\n",
        "@torch.no_grad()\n",
        "def test():\n",
        "    model.eval()\n",
        "    pred = model(data.x, data.edge_index).argmax(dim=-1)\n",
        "    accs = []\n",
        "    for mask in [data.train_mask, data.val_mask, data.test_mask]:\n",
        "        accs.append( (double(pred[mask] == data.y[mask]).sum()) / (int(mask.sum())) )\n",
        "    return accs\n",
        "\n",
        "best_val_acc = 0\n",
        "test_acc = 0\n",
        "epochs = 300\n",
        "for epoch in range (epochs):\n",
        "    loss = train()\n",
        "    train_acc, val_acc, tmp_test_acc = test()\n",
        "    if val_acc > best_val_acc:\n",
        "        best_val_acc = val_acc\n",
        "        test_acc = tmp_test_acc\n",
        "    if epoch%50==0:\n",
        "        log(Epoch=epoch, Loss=loss, Train=train_acc, Val=val_acc, Test=test_acc)\n",
        "\n",
        "print(f\"Best validation accuracy: {best_val_acc:.4f}\")\n",
        "print(f\"Test accuracy: {test_acc:.4f}\")"
      ]
    },
    {
      "cell_type": "markdown",
      "metadata": {
        "id": "4pav74NceOl5"
      },
      "source": [
        "# 使用DGL完成节点分类  \n",
        "\n",
        "Now, you can train the GCN model with PyG. Next, you may try using the DGL to implement the similiar function.  "
      ]
    },
    {
      "cell_type": "code",
      "execution_count": 436,
      "metadata": {},
      "outputs": [],
      "source": [
        "import argparse\n",
        "\n",
        "import dgl\n",
        "import dgl.nn as dglnn\n",
        "\n",
        "import torch\n",
        "import torch.nn as nn\n",
        "import torch.nn.functional as F\n",
        "from dgl import AddSelfLoop\n",
        "from dgl.data import CoraGraphDataset"
      ]
    },
    {
      "cell_type": "code",
      "execution_count": 437,
      "metadata": {},
      "outputs": [],
      "source": [
        "class DGL_GCNConv(nn.Module):\n",
        "    def __init__(self, in_features, out_features):\n",
        "        super(DGL_GCNConv, self).__init__()\n",
        "        self.weight=torch.randn(in_features,out_features)\n",
        "        self.linear = nn.Linear(in_features, out_features)\n",
        "\n",
        "    def forward(self, g, feature):\n",
        "        with g.local_scope():\n",
        "            g.ndata['h'] = feature\n",
        "            g.update_all(dgl.function.copy_u('h', 'm'), dgl.function.sum('m', 'h'))\n",
        "            h = g.ndata['h']\n",
        "            return self.linear(h)\n",
        "            # return F.relu(self.linear(h))\n",
        "\n",
        "class DGL_GCN(nn.Module):\n",
        "    def __init__(self, in_features, hidden_features, num_classes):\n",
        "        super(DGL_GCN, self).__init__()\n",
        "        self.conv1 = DGL_GCNConv(in_features, hidden_features)\n",
        "        self.conv2 = DGL_GCNConv(hidden_features, num_classes)\n",
        "\n",
        "    def forward(self, g, features):\n",
        "        h = F.relu(self.conv1(g, features))\n",
        "        h = self.conv2(g, h)\n",
        "        return h"
      ]
    },
    {
      "cell_type": "code",
      "execution_count": 438,
      "metadata": {},
      "outputs": [],
      "source": [
        "epochs=5\n",
        "\n",
        "def train(g, features, labels, masks, model):\n",
        "    optimizer = torch.optim.Adam(model.parameters(), lr=0.01)\n",
        "    for epoch in range(epochs):\n",
        "        model.train()\n",
        "        logits = model(g, features)\n",
        "        loss = nn.CrossEntropyLoss()(logits[masks[0]], labels[masks[0]])\n",
        "        optimizer.zero_grad()\n",
        "        loss.backward()\n",
        "        optimizer.step()\n",
        "        print(\"{:d}: {:.4f}\".format(epoch,loss.item()))\n",
        "\n",
        "def evaluate(g, features, labels, mask, model):\n",
        "    model.eval()\n",
        "    with torch.no_grad():\n",
        "        logits = model(g, features)\n",
        "        logits = logits[mask]\n",
        "        labels = labels[mask]\n",
        "        _, indices = torch.max(logits, dim=1)\n",
        "        correct = torch.sum(indices == labels)\n",
        "        return correct.item() * 1.0 / len(labels)"
      ]
    },
    {
      "cell_type": "code",
      "execution_count": 439,
      "metadata": {},
      "outputs": [
        {
          "name": "stdout",
          "output_type": "stream",
          "text": [
            "  NumNodes: 2708\n",
            "  NumEdges: 10556\n",
            "  NumFeats: 1433\n",
            "  NumClasses: 7\n",
            "  NumTrainingSamples: 140\n",
            "  NumValidationSamples: 500\n",
            "  NumTestSamples: 1000\n",
            "Done loading data from cached files.\n"
          ]
        }
      ],
      "source": [
        "transform = (\n",
        "    AddSelfLoop()\n",
        ")\n",
        "data = CoraGraphDataset(transform=transform)\n",
        "g = data[0]\n",
        "features = g.ndata[\"feat\"]\n",
        "labels = g.ndata[\"label\"]\n",
        "masks = g.ndata[\"train_mask\"], g.ndata[\"val_mask\"], g.ndata[\"test_mask\"]"
      ]
    },
    {
      "cell_type": "code",
      "execution_count": 440,
      "metadata": {},
      "outputs": [],
      "source": [
        "# 原始s\n",
        "# model = DGL_GCN(features.shape[1], 14, data.num_classes)\n",
        "# print(\"Training...\")\n",
        "# train(g, features, labels, masks, model)\n",
        "\n",
        "# # test the model\n",
        "# print(\"Testing...\")\n",
        "# acc = evaluate(g, features, labels, masks[2], model)\n",
        "# print(\"Test accuracy {:.4f}\".format(acc))"
      ]
    },
    {
      "cell_type": "code",
      "execution_count": 441,
      "metadata": {},
      "outputs": [
        {
          "name": "stdout",
          "output_type": "stream",
          "text": [
            "Training...\n",
            "0: 1.9506\n"
          ]
        },
        {
          "name": "stdout",
          "output_type": "stream",
          "text": [
            "1: 1.7972\n",
            "2: 1.6448\n",
            "3: 1.5222\n",
            "4: 1.4259\n",
            "Testing...\n",
            "Test accuracy 0.5130\n",
            "Training...\n",
            "0: 1.3433\n",
            "1: 1.2446\n",
            "2: 1.1485\n",
            "3: 1.0578\n",
            "4: 0.9727\n",
            "Testing...\n",
            "Test accuracy 0.7130\n",
            "Training...\n",
            "0: 0.8914\n",
            "1: 0.8062\n",
            "2: 0.7255\n",
            "3: 0.6505\n",
            "4: 0.5819\n",
            "Testing...\n",
            "Test accuracy 0.7280\n",
            "Training...\n",
            "0: 0.5188\n",
            "1: 0.4585\n",
            "2: 0.4041\n",
            "3: 0.3557\n",
            "4: 0.3126\n",
            "Testing...\n",
            "Test accuracy 0.7450\n",
            "Training...\n",
            "0: 0.2744\n",
            "1: 0.2384\n",
            "2: 0.2067\n",
            "3: 0.1789\n",
            "4: 0.1544\n",
            "Testing...\n",
            "Test accuracy 0.7500\n"
          ]
        }
      ],
      "source": [
        "model = DGL_GCN(features.shape[1], 14, data.num_classes)\n",
        "for i in range (5):\n",
        "    print(\"Training...\")\n",
        "    train(g, features, labels, masks, model)\n",
        "\n",
        "    # test the model\n",
        "    print(\"Testing...\")\n",
        "    acc = evaluate(g, features, labels, masks[2], model)\n",
        "    print(\"Test accuracy {:.4f}\".format(acc))"
      ]
    },
    {
      "cell_type": "markdown",
      "metadata": {
        "id": "nG3acaBaf0Uj"
      },
      "source": [
        "If you find it hard to implement, you may refer to the official implementation of the GNN training, like [PyG](https://github.com/pyg-team/pytorch_geometric/blob/master/examples/gcn.py) and [DGL](https://github.com/dmlc/dgl/blob/master/examples/pytorch/gcn/train.py)."
      ]
    }
  ],
  "metadata": {
    "colab": {
      "provenance": []
    },
    "kernelspec": {
      "display_name": "Python 3",
      "name": "python3"
    },
    "language_info": {
      "codemirror_mode": {
        "name": "ipython",
        "version": 3
      },
      "file_extension": ".py",
      "mimetype": "text/x-python",
      "name": "python",
      "nbconvert_exporter": "python",
      "pygments_lexer": "ipython3",
      "version": "3.12.0"
    }
  },
  "nbformat": 4,
  "nbformat_minor": 0
}

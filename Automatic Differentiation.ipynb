{
 "cells": [
  {
   "cell_type": "markdown",
   "metadata": {},
   "source": [
    "# 有梯度跟踪\n"
   ]
  },
  {
   "cell_type": "code",
   "execution_count": 33,
   "metadata": {},
   "outputs": [
    {
     "name": "stdout",
     "output_type": "stream",
     "text": [
      "tensor([[-1.3463, -1.1899,  0.9205],\n",
      "        [-2.1797,  0.1907,  0.2706],\n",
      "        [ 0.2583, -2.0951, -0.2117],\n",
      "        [-0.3301,  1.0219, -1.0481],\n",
      "        [ 1.2303,  0.6093,  0.0857]], requires_grad=True)\n",
      "tensor([-0.3662, -0.9586,  0.0565], requires_grad=True)\n",
      "tensor([-2.7337, -2.4217,  0.0735], grad_fn=<AddBackward0>)\n",
      "tensor(0.2929, grad_fn=<BinaryCrossEntropyWithLogitsBackward0>)\n",
      "Gradient function for z = <AddBackward0 object at 0x000002CE70C85FF0>\n",
      "Gradient function for loss = <BinaryCrossEntropyWithLogitsBackward0 object at 0x000002CE70C85FF0>\n"
     ]
    }
   ],
   "source": [
    "import torch\n",
    "\n",
    "x = torch.ones(5)  # input tensor\n",
    "y = torch.zeros(3)  # expected output\n",
    "w = torch.randn(5, 3, requires_grad=True)\n",
    "b = torch.randn(3, requires_grad=True)\n",
    "z = torch.matmul(x, w)+b\n",
    "loss = torch.nn.functional.binary_cross_entropy_with_logits(z, y)\n",
    "\n",
    "print(w)\n",
    "print(b)\n",
    "print(z)\n",
    "print(loss)\n",
    "\n",
    "print(f\"Gradient function for z = {z.grad_fn}\")\n",
    "print(f\"Gradient function for loss = {loss.grad_fn}\")"
   ]
  },
  {
   "cell_type": "code",
   "execution_count": 34,
   "metadata": {},
   "outputs": [
    {
     "name": "stdout",
     "output_type": "stream",
     "text": [
      "tensor([[0.0203, 0.0272, 0.1728],\n",
      "        [0.0203, 0.0272, 0.1728],\n",
      "        [0.0203, 0.0272, 0.1728],\n",
      "        [0.0203, 0.0272, 0.1728],\n",
      "        [0.0203, 0.0272, 0.1728]])\n",
      "tensor([0.0203, 0.0272, 0.1728])\n",
      "result=\n",
      "tensor([[-2.7337, -2.4217,  0.0735]], grad_fn=<AddBackward0>)\n",
      "y=\n",
      "tensor([0., 0., 0.])\n"
     ]
    }
   ],
   "source": [
    "loss.backward()\n",
    "print(w.grad)\n",
    "print(b.grad)\n",
    "\n",
    "\n",
    "result = torch.mm(x.view(1, -1), w) + b\n",
    "print(f\"result=\")\n",
    "print(result)\n",
    "print(f\"y=\")\n",
    "print(y)\n",
    "## 性能一般"
   ]
  },
  {
   "cell_type": "markdown",
   "metadata": {},
   "source": [
    "# 无梯度跟踪"
   ]
  },
  {
   "cell_type": "code",
   "execution_count": 35,
   "metadata": {},
   "outputs": [
    {
     "name": "stdout",
     "output_type": "stream",
     "text": [
      "True\n",
      "False\n"
     ]
    }
   ],
   "source": [
    "z = torch.matmul(x, w)+b\n",
    "print(z.requires_grad)\n",
    "\n",
    "with torch.no_grad():\n",
    "    z = torch.matmul(x, w)+b\n",
    "print(z.requires_grad)"
   ]
  }
 ],
 "metadata": {
  "kernelspec": {
   "display_name": "Python 3",
   "language": "python",
   "name": "python3"
  },
  "language_info": {
   "codemirror_mode": {
    "name": "ipython",
    "version": 3
   },
   "file_extension": ".py",
   "mimetype": "text/x-python",
   "name": "python",
   "nbconvert_exporter": "python",
   "pygments_lexer": "ipython3",
   "version": "3.12.0"
  }
 },
 "nbformat": 4,
 "nbformat_minor": 2
}

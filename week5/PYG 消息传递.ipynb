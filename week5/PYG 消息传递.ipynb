{
 "cells": [
  {
   "cell_type": "markdown",
   "metadata": {},
   "source": [
    "# MessagePassing类\n",
    "\n",
    "(1)MessagePassing(aggr=\"add\", flow=\"source_to_target\", node_dim=-2)\n",
    "\n",
    "aggr:定义要使用的聚合方案（\"add\"、\"mean\"或\"max\"）以及消息传递的流向\n",
    "\n",
    "flow: source_to_target\"或\"target_to_source\"\n",
    "\n",
    "node_dim:指示沿哪个轴传播\n",
    "\n",
    "(2)MessagePassing.propagate(edge_index, size=None, **kwargs)\n",
    "\n",
    "请注意，propagate()不仅限于基于形状为[N, N]的对称邻接矩阵进行“消息传递过程”。基于对称的邻接矩阵进行消息传递(当图为二部图时),需要传递参数size=(N, M)\n",
    "\n",
    "如果设置size=None,则认为邻接矩阵是对称的\n",
    "\n",
    "\n"
   ]
  },
  {
   "cell_type": "code",
   "execution_count": null,
   "metadata": {},
   "outputs": [],
   "source": []
  }
 ],
 "metadata": {
  "language_info": {
   "name": "python"
  }
 },
 "nbformat": 4,
 "nbformat_minor": 2
}

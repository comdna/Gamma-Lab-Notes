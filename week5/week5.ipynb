{
  "cells": [
    {
      "cell_type": "markdown",
      "metadata": {
        "id": "aDRLr_Ot6-gE"
      },
      "source": [
        "The most popular GNN models can be written as follows:\n",
        "\n",
        "$$\n",
        "h_i^{(l+1)}=\\sigma(b^{(l)}+\\sum_{j\\in\\mathcal{N}(i)}e_{ij}h_j^{(l)}W^{(l)})\n",
        "$$\n",
        "\n",
        "where $h_i^{(l+1)}$ is the output feature, $\\sigma$ is the activation function, $e_{ij}$ is the edge weight, $W^{(l)}$ is the learnable parameters(可学习参数), $b^{(l)}$ is the bias.\n",
        "\n",
        "First, you will use the PyTorch-Geometric(PyG) to implement this convolution layer.\n",
        "首先，您将使用PyTorch-Geometric(PyG)来实现这个卷积层。"
      ]
    },
    {
      "cell_type": "code",
      "execution_count": 10,
      "metadata": {
        "id": "RAQfM5GS2qlv"
      },
      "outputs": [],
      "source": [
        "import torch\n",
        "import torch.nn as nn\n",
        "from torch_geometric.nn import MessagePassing\n",
        "\n",
        "class PyG_conv(MessagePassing):\n",
        "    def __init__(self, in_channels, out_channels):\n",
        "        super(PyG_conv, self).__init__(aggr='add')\n",
        "        self.in_channels = in_channels\n",
        "        self.out_channels = out_channels\n",
        "        self.W = nn.Parameter(torch.ones((in_channels, out_channels)))\n",
        "        self.b = nn.Parameter(torch.ones(out_channels))\n",
        "\n",
        "    def forward(self, x, edge_index, edge_weight):\n",
        "        return self.propagate(edge_index, x=x, edge_weight=edge_weight)\n",
        "\n",
        "    def message(self, x_j, edge_weight):\n",
        "        return edge_weight.view(-1, 1) * x_j\n",
        "\n",
        "    def update(self, aggr_out):\n",
        "        return torch.matmul(aggr_out, self.W) + self.b"
      ]
    },
    {
      "cell_type": "markdown",
      "metadata": {
        "id": "xmxHSrJkH_xe"
      },
      "source": [
        "You may run the following code to check the correctness."
      ]
    },
    {
      "cell_type": "code",
      "execution_count": 11,
      "metadata": {
        "id": "ov24C3_hH-Sc"
      },
      "outputs": [],
      "source": [
        "import numpy as np\n",
        "edge_index = torch.tensor([[0,1,1,2,2,4],[2,0,2,3,4,3]])\n",
        "# h0\n",
        "x = torch.ones((5, 8))\n",
        "edge_weight = 2 * torch.ones(6)\n",
        "conv = PyG_conv(8, 4)\n",
        "output = conv(x, edge_index, edge_weight)\n",
        "assert np.allclose(output.detach().numpy(), [[17., 17., 17., 17.],\n",
        "                    [ 1.,  1.,  1.,  1.],\n",
        "                    [33., 33., 33., 33.],\n",
        "                    [33., 33., 33., 33.],\n",
        "                    [17., 17., 17., 17.]])"
      ]
    },
    {
      "cell_type": "markdown",
      "metadata": {
        "id": "6Ou03H2BOdoE"
      },
      "source": [
        "Now, you will implement the same functions with DGL."
      ]
    },
    {
      "cell_type": "markdown",
      "metadata": {},
      "source": [
        "The most popular GNN models can be written as follows:\n",
        "\n",
        "$$\n",
        "h_i^{(l+1)}=\\sigma(b^{(l)}+\\sum_{j\\in\\mathcal{N}(i)}e_{ij}h_j^{(l)}W^{(l)})\n",
        "$$\n",
        "\n",
        "where $h_i^{(l+1)}$ is the output feature, $\\sigma$ is the activation function(激活函数), $e_{ij}$ is the edge weight, $W^{(l)}$ is the learnable parameters(可学习参数), $b^{(l)}$ is the bias.\n",
        "\n",
        "First, you will use the PyTorch-Geometric(PyG) to implement this convolution layer.\n",
        "首先，您将使用PyTorch-Geometric(PyG)来实现这个卷积层。"
      ]
    },
    {
      "cell_type": "markdown",
      "metadata": {
        "id": "D3YW_vmbT_SC"
      },
      "source": [
        "Also, you can also run the code below to check the correctness."
      ]
    },
    {
      "cell_type": "code",
      "execution_count": 8,
      "metadata": {},
      "outputs": [],
      "source": [
        "import dgl.function as fn\n",
        "import dgl\n",
        "\n",
        "class DGL_conv(nn.Module):\n",
        "    def __init__(self, in_channel, out_channel):\n",
        "        super(DGL_conv, self).__init__()\n",
        "        self.in_channel = in_channel\n",
        "        self.out_channel = out_channel\n",
        "        self.W = nn.Parameter(torch.ones(in_channel, out_channel))\n",
        "        self.b = nn.Parameter(torch.ones(out_channel))\n",
        "\n",
        "    def forward(self, g, h, edge_weight):\n",
        "        g.ndata['h'] = h\n",
        "        g.edata['weight'] = edge_weight\n",
        "        g.update_all(message_func=fn.u_mul_e('h', 'weight', 'm'), reduce_func=fn.sum('m', 'h_neigh'))\n",
        "        h_neigh = g.ndata['h_neigh']\n",
        "        return torch.matmul(h_neigh, self.W) + self.b"
      ]
    },
    {
      "cell_type": "code",
      "execution_count": 9,
      "metadata": {
        "id": "dp1e8tejUFlS"
      },
      "outputs": [],
      "source": [
        "src = torch.tensor([0, 1, 1, 2, 2, 4])\n",
        "dst = torch.tensor([2, 0, 2, 3, 4, 3])\n",
        "h = torch.ones((5, 8))\n",
        "g = dgl.graph((src, dst))\n",
        "edge_weight = 2 * torch.ones(6)\n",
        "conv = DGL_conv(8, 4)\n",
        "output = conv(g, h, edge_weight)\n",
        "import numpy as np\n",
        "assert np.allclose(output.detach().numpy(), [[17., 17., 17., 17.],\n",
        "                    [ 1.,  1.,  1.,  1.],\n",
        "                    [33., 33., 33., 33.],\n",
        "                    [33., 33., 33., 33.],\n",
        "                    [17., 17., 17., 17.]])"
      ]
    }
  ],
  "metadata": {
    "colab": {
      "provenance": []
    },
    "kernelspec": {
      "display_name": "Python 3",
      "name": "python3"
    },
    "language_info": {
      "codemirror_mode": {
        "name": "ipython",
        "version": 3
      },
      "file_extension": ".py",
      "mimetype": "text/x-python",
      "name": "python",
      "nbconvert_exporter": "python",
      "pygments_lexer": "ipython3",
      "version": "3.12.0"
    }
  },
  "nbformat": 4,
  "nbformat_minor": 0
}

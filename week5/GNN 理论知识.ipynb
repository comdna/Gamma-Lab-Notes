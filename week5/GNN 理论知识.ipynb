{
 "cells": [
  {
   "cell_type": "markdown",
   "metadata": {},
   "source": [
    "# 临界矩阵\n",
    "\n",
    "有一图，其邻接矩阵为A,A^n[i,j]表示i->j经过n步可以走到的方法数\n"
   ]
  },
  {
   "cell_type": "markdown",
   "metadata": {},
   "source": [
    "# 拉普拉斯矩阵\n",
    "\n",
    "L = D-A\n",
    "\n",
    "A：临界矩阵\n",
    "\n",
    "D：对角线为各个节点的度，其余元素均为0\n",
    "\n",
    "归一化拉普拉斯矩阵\n",
    "\n",
    "L= I-D^(-1/2) A D^(-1/2)"
   ]
  },
  {
   "cell_type": "markdown",
   "metadata": {},
   "source": [
    "# 节点表征\n",
    "\n",
    "节点自身和其相连接的节点的属性"
   ]
  }
 ],
 "metadata": {
  "language_info": {
   "name": "python"
  }
 },
 "nbformat": 4,
 "nbformat_minor": 2
}

{
 "cells": [
  {
   "cell_type": "markdown",
   "metadata": {},
   "source": [
    "# 消息传递\n",
    "\n",
    "1.通过消息函数(u,e,v) => mailbox  \n",
    "2.聚合函数(mailbox)  \n",
    "3.更新函数(x,mailbox)=>x\n",
    "\n"
   ]
  },
  {
   "cell_type": "markdown",
   "metadata": {},
   "source": [
    "# 消息函数\n",
    "\n",
    "利用消息函数，我们可以将两个节点特征相结合然后赋给边，也可以将节点和边特征相结合然后赋给边，即：node+node->edge或node+edge->edge。"
   ]
  },
  {
   "cell_type": "markdown",
   "metadata": {},
   "source": [
    "# 聚合函数\n",
    "\n",
    "把mailbox得到的张量 进行max,min,mean…… 聚合操作\n"
   ]
  },
  {
   "cell_type": "markdown",
   "metadata": {},
   "source": [
    "# 更新函数\n",
    "\n",
    "把聚合后的mailbox和点特征x进行一定运算，得到新的点特征x"
   ]
  },
  {
   "cell_type": "code",
   "execution_count": 4,
   "metadata": {},
   "outputs": [],
   "source": [
    "# update_all(消息函数,聚合函数,更新函数=可选)\n",
    "# Eg:\n",
    "def update_all_example(graph):\n",
    "    # 在graph.ndata['ft']中存储结果\n",
    "    graph.update_all(fn.u_mul_e('ft', 'a', 'm'),\n",
    "                    fn.sum('m', 'ft'))\n",
    "    # 在update_all外调用更新函数\n",
    "    final_ft = graph.ndata['ft'] * 2\n",
    "    return final_ft"
   ]
  },
  {
   "cell_type": "markdown",
   "metadata": {},
   "source": [
    "# 在Graph的一部分进行消息传递\n",
    "\n",
    "先把子图构建出来，然后进行消息传递"
   ]
  },
  {
   "cell_type": "markdown",
   "metadata": {},
   "source": [
    "# 异构图消息传递\n",
    "\n",
    "异构图上的消息传递可以分为两个部分：\n",
    "\n",
    "（1）对每个关系计算和聚合消息。\n",
    "\n",
    "（2）对每个结点聚合来自不同关系的消息。"
   ]
  },
  {
   "cell_type": "markdown",
   "metadata": {},
   "source": [
    "(1)multi_update_all() 接受一个字典。\n",
    " \n",
    "这个字典的每一个键值对里，键是一种关系， 值是这种关系对应 update_all() 的参数。 \n",
    " \n",
    "(2)multi_update_all() 还接受一个字符串来表示跨类型整合函数，来指定整合不同关系聚合结果的方式。 这个整合方式可以是 sum、 min、 max、 mean 和 stack 中的一个。"
   ]
  },
  {
   "cell_type": "code",
   "execution_count": 3,
   "metadata": {},
   "outputs": [],
   "source": [
    "import dgl.function as fn\n",
    "\n",
    "def fun():\n",
    "    for c_etype in G.canonical_etypes:\n",
    "        srctype, etype, dsttype = c_etype\n",
    "        Wh = self.weight[etype](feat_dict[srctype])\n",
    "        # 把它存在图中用来做消息传递\n",
    "        G.nodes[srctype].data['Wh_%s' % etype] = Wh\n",
    "        # 指定每个关系的消息传递函数：(message_func, reduce_func).\n",
    "        # 注意结果保存在同一个目标特征“h”，说明聚合是逐类进行的\n",
    "        funcs[etype] = (fn.copy_u('Wh_%s' % etype, 'm'), fn.mean('m', 'h'))\n",
    "    # 将每个类型消息聚合的结果相加\n",
    "    G.multi_update_all(funcs, 'sum')\n",
    "    # 返回更新过的节点特征字典\n",
    "    return {ntype : G.nodes[ntype].data['h'] for ntype in G.ntypes}"
   ]
  }
 ],
 "metadata": {
  "kernelspec": {
   "display_name": "Python 3",
   "language": "python",
   "name": "python3"
  },
  "language_info": {
   "codemirror_mode": {
    "name": "ipython",
    "version": 3
   },
   "file_extension": ".py",
   "mimetype": "text/x-python",
   "name": "python",
   "nbconvert_exporter": "python",
   "pygments_lexer": "ipython3",
   "version": "3.12.0"
  }
 },
 "nbformat": 4,
 "nbformat_minor": 2
}

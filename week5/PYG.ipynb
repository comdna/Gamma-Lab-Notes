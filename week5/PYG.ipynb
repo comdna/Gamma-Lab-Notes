{
 "cells": [
  {
   "cell_type": "markdown",
   "metadata": {},
   "source": [
    "class Data:图的表示基类\n",
    "\n",
    "x (Tensor, optional): 节点属性矩阵，大小为`[num_nodes, num_node_features]`\n",
    "\n",
    "edge_index (LongTensor, optional): 边索引矩阵，大小为`[2, num_edges]`\n",
    "\n",
    "edge_attr (Tensor, optional): 边属性矩阵，大小为`[num_edges, num_edge_features]`\n",
    "\n",
    "y (Tensor, optional): 节点或边或图的标签，任意大小\n",
    "\n",
    "**kwargs 可以接收一个任意大小的字典，也就是还可以加图里面的其他属性\n",
    "\n",
    "```\n",
    "for key, item in kwargs.items():\n",
    "    if key == 'num_nodes':\n",
    "        self.__num_nodes__ = item\n",
    "    else:\n",
    "        self[key] = item\n",
    "```\n",
    "\n",
    "ctor:  \n",
    "def __init__(self, x=None, edge_index=None, edge_attr=None, y=None, **kwargs):"
   ]
  },
  {
   "cell_type": "code",
   "execution_count": 4,
   "metadata": {},
   "outputs": [
    {
     "name": "stdout",
     "output_type": "stream",
     "text": [
      "Data(x=[3, 1], edge_index=[2, 4])\n"
     ]
    }
   ],
   "source": [
    "import torch\n",
    "from torch_geometric.data import Data\n",
    "\n",
    "edge_index = torch.tensor([[0, 1, 1, 2],\n",
    "                            [1, 0, 2, 1]], dtype=torch.long)\n",
    "\n",
    "x = torch.tensor([[-1], [0], [1]], dtype=torch.float)\n",
    "\n",
    "# 点 边\n",
    "data = Data(x=x, edge_index=edge_index)\n",
    "\n",
    "# 输出形状\n",
    "print(data) "
   ]
  },
  {
   "cell_type": "markdown",
   "metadata": {},
   "source": []
  },
  {
   "cell_type": "code",
   "execution_count": 15,
   "metadata": {},
   "outputs": [],
   "source": [
    "import torch\n",
    "from torch_geometric.nn import MessagePassing\n",
    "from torch_geometric.utils import add_self_loops, degree\n",
    "\n",
    "from torch_geometric.datasets import Planetoid\n",
    "\n",
    "class GCNConv(MessagePassing):\n",
    "\n",
    "    def __init__(self, in_channels, out_channels):\n",
    "        \"\"\"\n",
    "        初始化: 这里在基类的基础上定义了一个Linear层\n",
    "        :param in_channels: 输入特征个数\n",
    "        :param out_channels: 输出特征个数,Linear的神经单元数量\n",
    "        \"\"\"\n",
    "        super(GCNConv, self).__init__(aggr='add', flow='source_to_target')\n",
    "        self.lin = torch.nn.Linear(in_channels, out_channels)\n",
    "\n",
    "    def forward(self, x, edge_index):\n",
    "        \"\"\"\n",
    "        前向传播逻辑\n",
    "        :param x: 节点表示矩阵， [N, in_channels], N个节点, in_channles个特征\n",
    "        :param edge_index: 边集合\n",
    "        \"\"\"\n",
    "        # 1. 增加自环\n",
    "        edge_index, _ = add_self_loops(edge_index, num_nodes=x.size(0))  \n",
    "        # _那个是权重，这里无权，所以不要这个\n",
    "        \n",
    "        # 2. 特征矩阵的线性变换\n",
    "        x = self.lin(x)   # [N, out_channels]\n",
    "\n",
    "        # 3. 计算归一化系数\n",
    "        source, target = edge_index\n",
    "        # 这个函数在计算每个节点的度\n",
    "        deg = degree(target, x.size(0), dtype=x.dtype)  \n",
    "\n",
    "        #print(deg)         # 每个节点的度  [4., 4., 6.,  ..., 2., 5., 5.]\n",
    "        #print(deg.shape)   # 2708\n",
    "        \n",
    "        deg_inv_sqrt = deg.pow(-0.5)\n",
    "        norm = deg_inv_sqrt[source] * deg_inv_sqrt[target]   # [E]\n",
    "        print(\"norm:\")\n",
    "        print(len(norm))\n",
    "\n",
    "        # 4-5 开始前向转播\n",
    "        return self.propagate(edge_index, x=x, norm=norm)\n",
    "\n",
    "    def message(self, x_j, norm):\n",
    "        \"\"\"\n",
    "        :param x_j: [E, out_channels]\n",
    "        :param norm: 归一化的节点特征\n",
    "        \"\"\"\n",
    "        return norm.view(-1, 1) * x_j   # [E, out_channels], 这里是经历过广播"
   ]
  },
  {
   "cell_type": "code",
   "execution_count": 16,
   "metadata": {},
   "outputs": [
    {
     "name": "stdout",
     "output_type": "stream",
     "text": [
      "norm:\n",
      "13264\n",
      "torch.Size([2708, 64])\n"
     ]
    }
   ],
   "source": [
    "if __name__ == '__main__':\n",
    "    dataset = Planetoid(root='/tmp/Cora', name='Cora')\n",
    "    data = dataset[0]\n",
    "\n",
    "    net = GCNConv(data.num_features, 64)\n",
    "    h_nodes = net(data.x, data.edge_index)   \n",
    "    # x [2708, 1433], data.edge_index [2, 10556]\n",
    "    print(h_nodes.shape)   # [2708, 64]"
   ]
  },
  {
   "cell_type": "markdown",
   "metadata": {},
   "source": [
    "# 快速检查图的性质"
   ]
  },
  {
   "cell_type": "code",
   "execution_count": 7,
   "metadata": {},
   "outputs": [
    {
     "name": "stdout",
     "output_type": "stream",
     "text": [
      "False\n",
      "False\n",
      "False\n"
     ]
    }
   ],
   "source": [
    "print(data.has_isolated_nodes())\n",
    "\n",
    "print(data.has_self_loops())\n",
    "\n",
    "print(data.is_directed())"
   ]
  },
  {
   "cell_type": "markdown",
   "metadata": {},
   "source": [
    "# 访问数据集"
   ]
  },
  {
   "cell_type": "code",
   "execution_count": 8,
   "metadata": {},
   "outputs": [
    {
     "name": "stdout",
     "output_type": "stream",
     "text": [
      "Data(edge_index=[2, 168], x=[37, 3], y=[1])\n"
     ]
    }
   ],
   "source": [
    "from torch_geometric.datasets import TUDataset\n",
    "\n",
    "dataset = TUDataset(root='/tmp/ENZYMES', name='ENZYMES')\n",
    "\n",
    "data = dataset[0]\n",
    "print(data)\n"
   ]
  },
  {
   "cell_type": "markdown",
   "metadata": {},
   "source": [
    "# 切片"
   ]
  },
  {
   "cell_type": "code",
   "execution_count": 9,
   "metadata": {},
   "outputs": [
    {
     "name": "stdout",
     "output_type": "stream",
     "text": [
      "ENZYMES(540)\n"
     ]
    }
   ],
   "source": [
    "train_dataset = dataset[:540]\n",
    "print(train_dataset)\n",
    "\n",
    "test_dataset = dataset[540:]"
   ]
  },
  {
   "cell_type": "markdown",
   "metadata": {},
   "source": [
    "# Cora数据集"
   ]
  },
  {
   "cell_type": "code",
   "execution_count": 10,
   "metadata": {},
   "outputs": [
    {
     "name": "stdout",
     "output_type": "stream",
     "text": [
      "1433\n"
     ]
    }
   ],
   "source": [
    "from torch_geometric.datasets import Planetoid\n",
    "import torch\n",
    "import torch.nn.functional as F\n",
    "from torch_geometric.nn import GCNConv\n",
    "\n",
    "dataset = Planetoid(root='/tmp/Cora', name='Cora')\n",
    "\n",
    "print(dataset.num_node_features)\n",
    "\n",
    "class GCN(torch.nn.Module):\n",
    "    def __init__(self):\n",
    "        super().__init__()\n",
    "        self.conv1 = GCNConv(dataset.num_node_features, 16)\n",
    "        self.conv2 = GCNConv(16, dataset.num_classes)\n",
    "\n",
    "    def forward(self, data):\n",
    "        x, edge_index = data.x, data.edge_index\n",
    "        x = self.conv1(x, edge_index)\n",
    "        x = F.relu(x)\n",
    "        x = F.dropout(x, training=self.training)\n",
    "        x = self.conv2(x, edge_index)\n",
    "\n",
    "        return F.log_softmax(x, dim=1)"
   ]
  },
  {
   "cell_type": "code",
   "execution_count": 11,
   "metadata": {},
   "outputs": [],
   "source": [
    "device = torch.device('cpu')\n",
    "model = GCN().to(device)\n",
    "data = dataset[0].to(device)\n",
    "optimizer = torch.optim.Adam(model.parameters(), lr=0.01, weight_decay=5e-4)\n",
    "\n",
    "model.train()\n",
    "for epoch in range(200):\n",
    "    optimizer.zero_grad()\n",
    "    out = model(data)\n",
    "    loss = F.nll_loss(out[data.train_mask], data.y[data.train_mask])\n",
    "    loss.backward()\n",
    "    optimizer.step()"
   ]
  },
  {
   "cell_type": "code",
   "execution_count": 12,
   "metadata": {},
   "outputs": [
    {
     "name": "stdout",
     "output_type": "stream",
     "text": [
      "Accuracy: 0.7890\n"
     ]
    }
   ],
   "source": [
    "model.eval()\n",
    "pred = model(data).argmax(dim=1)\n",
    "\n",
    "correct = (pred[data.test_mask] == data.y[data.test_mask]).sum()\n",
    "acc = int(correct) / int(data.test_mask.sum())\n",
    "print(f'Accuracy: {acc:.4f}')"
   ]
  }
 ],
 "metadata": {
  "kernelspec": {
   "display_name": "Python 3",
   "language": "python",
   "name": "python3"
  },
  "language_info": {
   "codemirror_mode": {
    "name": "ipython",
    "version": 3
   },
   "file_extension": ".py",
   "mimetype": "text/x-python",
   "name": "python",
   "nbconvert_exporter": "python",
   "pygments_lexer": "ipython3",
   "version": "3.12.0"
  }
 },
 "nbformat": 4,
 "nbformat_minor": 2
}

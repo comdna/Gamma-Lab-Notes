{
 "cells": [
  {
   "cell_type": "markdown",
   "metadata": {},
   "source": [
    "# DGL\n",
    "\n",
    "DGL都是有向边"
   ]
  },
  {
   "cell_type": "code",
   "execution_count": 12,
   "metadata": {},
   "outputs": [
    {
     "name": "stdout",
     "output_type": "stream",
     "text": [
      "Graph(num_nodes=4, num_edges=4,\n",
      "      ndata_schemes={}\n",
      "      edata_schemes={})\n",
      "tensor([0, 1, 2, 3])\n",
      "(tensor([0, 0, 0, 1]), tensor([1, 2, 3, 3]))\n",
      "(tensor([0, 0, 0, 1]), tensor([1, 2, 3, 3]), tensor([0, 1, 2, 3]))\n"
     ]
    }
   ],
   "source": [
    "import dgl\n",
    "import torch as th\n",
    "\n",
    "# 边 0->1, 0->2, 0->3, 1->3\n",
    "# 构建V,E\n",
    "u, v = th.tensor([0, 0, 0, 1]), th.tensor([1, 2, 3, 3])\n",
    "g = dgl.graph((u, v))\n",
    "print(g) # 图中节点的数量是DGL通过给定的图的边列表中最大的点ID推断所得出的\n",
    "\n",
    "# 获取节点的ID\n",
    "print(g.nodes())\n",
    "# 获取边的对应端点\n",
    "print(g.edges())\n",
    "# 获取边的对应端点和边ID\n",
    "print(g.edges(form='all'))\n",
    "\n",
    "# 如果具有最大ID的节点没有边，在创建图的时候，用户需要明确地指明节点的数量。\n",
    "g = dgl.graph((u, v), num_nodes=8)"
   ]
  },
  {
   "cell_type": "markdown",
   "metadata": {},
   "source": [
    "# 无相图需要双向创建"
   ]
  },
  {
   "cell_type": "code",
   "execution_count": 13,
   "metadata": {},
   "outputs": [
    {
     "data": {
      "text/plain": [
       "(tensor([0, 0, 0, 1, 1, 2, 3, 3]), tensor([1, 2, 3, 0, 3, 0, 0, 1]))"
      ]
     },
     "execution_count": 13,
     "metadata": {},
     "output_type": "execute_result"
    }
   ],
   "source": [
    "# 有向图->无向\n",
    "bg = dgl.to_bidirected(g)\n",
    "bg.edges()"
   ]
  },
  {
   "cell_type": "markdown",
   "metadata": {},
   "source": [
    "还可以进行 ID数据转换int32->int64一步到位的API"
   ]
  },
  {
   "cell_type": "markdown",
   "metadata": {},
   "source": [
    "# node edge 特征\n",
    "## ndata,edata"
   ]
  },
  {
   "cell_type": "code",
   "execution_count": 14,
   "metadata": {},
   "outputs": [
    {
     "name": "stdout",
     "output_type": "stream",
     "text": [
      "Graph(num_nodes=6, num_edges=4,\n",
      "      ndata_schemes={}\n",
      "      edata_schemes={})\n",
      "Graph(num_nodes=6, num_edges=4,\n",
      "      ndata_schemes={'x': Scheme(shape=(3,), dtype=torch.float32)}\n",
      "      edata_schemes={'x': Scheme(shape=(), dtype=torch.int32)})\n",
      "tensor([1., 1., 1.])\n",
      "tensor([1, 1], dtype=torch.int32)\n"
     ]
    }
   ],
   "source": [
    "import dgl\n",
    "import torch as th\n",
    "g = dgl.graph(([0, 0, 1, 5], [1, 2, 2, 0])) # 6个节点，4条边\n",
    "print(g)\n",
    "\n",
    "g.ndata['x'] = th.ones(g.num_nodes(), 3)               # 长度为3的节点特征\n",
    "g.edata['x'] = th.ones(g.num_edges(), dtype=th.int32)  # 标量整型特征\n",
    "print(g)\n",
    "\n",
    "# 不同名称的特征可以具有不同形状\n",
    "g.ndata['y'] = th.randn(g.num_nodes(), 5)\n",
    "print(g.ndata['x'][1])                  # 获取节点1的特征\n",
    "print(g.edata['x'][th.tensor([0, 3])])  # 获取边0和3的特征\n"
   ]
  },
  {
   "cell_type": "markdown",
   "metadata": {},
   "source": []
  },
  {
   "cell_type": "code",
   "execution_count": 15,
   "metadata": {},
   "outputs": [
    {
     "name": "stdout",
     "output_type": "stream",
     "text": [
      "Graph(num_nodes=4, num_edges=4,\n",
      "      ndata_schemes={}\n",
      "      edata_schemes={'w': Scheme(shape=(), dtype=torch.float32)})\n"
     ]
    }
   ],
   "source": [
    "# 边 0->1, 0->2, 0->3, 1->3\n",
    "edges = th.tensor([0, 0, 0, 1]), th.tensor([1, 2, 3, 3])\n",
    "weights = th.tensor([0.1, 0.6, 0.9, 0.7])  # 每条边的权重\n",
    "g = dgl.graph(edges)\n",
    "g.edata['w'] = weights  # 将其命名为 'w'\n",
    "print(g)"
   ]
  },
  {
   "cell_type": "markdown",
   "metadata": {},
   "source": [
    "# 从外部转换为Graph"
   ]
  },
  {
   "cell_type": "code",
   "execution_count": 16,
   "metadata": {},
   "outputs": [
    {
     "name": "stdout",
     "output_type": "stream",
     "text": [
      "Graph(num_nodes=100, num_edges=500,\n",
      "      ndata_schemes={}\n",
      "      edata_schemes={})\n",
      "Graph(num_nodes=5, num_edges=8,\n",
      "      ndata_schemes={}\n",
      "      edata_schemes={})\n"
     ]
    }
   ],
   "source": [
    "import dgl\n",
    "import torch as th\n",
    "import scipy.sparse as sp\n",
    "spmat = sp.rand(100, 100, density=0.05) # 5%非零项\n",
    "g=dgl.from_scipy(spmat)                   # 来自SciPy\n",
    "print(g)\n",
    "\n",
    "import networkx as nx\n",
    "nx_g = nx.path_graph(5) # 一条链路0-1-2-3-4\n",
    "g=dgl.from_networkx(nx_g) # 来自NetworkX\n",
    "print(g)"
   ]
  },
  {
   "cell_type": "markdown",
   "metadata": {},
   "source": [
    "# 异构图\n",
    "\n",
    "在DGL中，一个异构图由一系列子图构成，一个子图对应一种关系。每个关系由一个字符串三元组 定义 (源节点类型, 边类型, 目标节点类型) 。由于这里的关系定义消除了边类型的歧义，DGL称它们为规范边类型。  \n",
    "(P1,E1,P2)\n",
    "\n",
    "\n",
    "因为有多种类型，所以查看点或者边时，需要指明在哪种关系下的  "
   ]
  },
  {
   "cell_type": "code",
   "execution_count": 19,
   "metadata": {},
   "outputs": [
    {
     "name": "stdout",
     "output_type": "stream",
     "text": [
      "Graph(num_nodes={'disease': 3, 'drug': 3, 'gene': 4},\n",
      "      num_edges={('drug', 'interacts', 'drug'): 2, ('drug', 'interacts', 'gene'): 2, ('drug', 'treats', 'disease'): 1},\n",
      "      metagraph=[('drug', 'drug', 'interacts'), ('drug', 'gene', 'interacts'), ('drug', 'disease', 'treats')])\n",
      "['disease', 'drug', 'gene']\n",
      "['interacts', 'interacts', 'treats']\n",
      "[('drug', 'interacts', 'drug'), ('drug', 'interacts', 'gene'), ('drug', 'treats', 'disease')]\n"
     ]
    }
   ],
   "source": [
    "import dgl\n",
    "import torch as th\n",
    "\n",
    "# 创建一个具有3种节点类型和3种边类型的异构图\n",
    "graph_data = {\n",
    "    ('drug', 'interacts', 'drug'): (th.tensor([0, 1]), th.tensor([1, 2])),\n",
    "    ('drug', 'interacts', 'gene'): (th.tensor([0, 1]), th.tensor([2, 3])),\n",
    "    ('drug', 'treats', 'disease'): (th.tensor([1]), th.tensor([2]))\n",
    "}\n",
    "g = dgl.heterograph(graph_data)\n",
    "\n",
    "print(g)\n",
    "\n",
    "# node类型集合 edges类型集合  relation关系集合\n",
    "print(g.ntypes)\n",
    "print(g.etypes)\n",
    "print(g.canonical_etypes)"
   ]
  },
  {
   "cell_type": "markdown",
   "metadata": {},
   "source": [
    "# 二分图：\n",
    "\n",
    "nodes分成两个集合A,B  \n",
    "A,B互不相交，加一块构成全集；  \n",
    "A内部没有边，B内部没有边  "
   ]
  },
  {
   "cell_type": "markdown",
   "metadata": {},
   "source": [
    "# 从异构图中，构造子图"
   ]
  },
  {
   "cell_type": "code",
   "execution_count": 20,
   "metadata": {},
   "outputs": [
    {
     "name": "stdout",
     "output_type": "stream",
     "text": [
      "Graph(num_nodes={'disease': 3, 'drug': 3},\n",
      "      num_edges={('drug', 'interacts', 'drug'): 2, ('drug', 'treats', 'disease'): 1},\n",
      "      metagraph=[('drug', 'drug', 'interacts'), ('drug', 'disease', 'treats')])\n",
      "tensor([[1.],\n",
      "        [1.],\n",
      "        [1.]])\n"
     ]
    }
   ],
   "source": [
    "g = dgl.heterograph({\n",
    "    ('drug', 'interacts', 'drug'): (th.tensor([0, 1]), th.tensor([1, 2])),\n",
    "    ('drug', 'interacts', 'gene'): (th.tensor([0, 1]), th.tensor([2, 3])),\n",
    "    ('drug', 'treats', 'disease'): (th.tensor([1]), th.tensor([2]))\n",
    "})\n",
    "g.nodes['drug'].data['hv'] = th.ones(3, 1)\n",
    "\n",
    "# 保留关系 ('drug', 'interacts', 'drug') 和 ('drug', 'treats', 'disease') 。\n",
    "# 'drug' 和 'disease' 类型的节点也会被保留\n",
    "eg = dgl.edge_type_subgraph(g, [('drug', 'interacts', 'drug'),\n",
    "                                ('drug', 'treats', 'disease')])\n",
    "print(eg)\n",
    "\n",
    "# 相关的特征也会被拷贝\n",
    "print(eg.nodes['drug'].data['hv'])"
   ]
  },
  {
   "cell_type": "markdown",
   "metadata": {},
   "source": [
    "异构图还可以转换为同构图，只是在合并不同关系类型的特征时，需要特征的类型和大小是一致的  \n",
    "\n",
    "合并时，可以设置同构图的节点顺序等特性"
   ]
  }
 ],
 "metadata": {
  "kernelspec": {
   "display_name": "Python 3",
   "language": "python",
   "name": "python3"
  },
  "language_info": {
   "codemirror_mode": {
    "name": "ipython",
    "version": 3
   },
   "file_extension": ".py",
   "mimetype": "text/x-python",
   "name": "python",
   "nbconvert_exporter": "python",
   "pygments_lexer": "ipython3",
   "version": "3.12.0"
  }
 },
 "nbformat": 4,
 "nbformat_minor": 2
}

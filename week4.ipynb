{
  "cells": [
    {
      "cell_type": "markdown",
      "metadata": {
        "id": "chi4omZLZbt4"
      },
      "source": [
        "In this work, you are required to train a model for dataset MNIST with PyTorch.\n",
        "\n",
        "在这项工作中，您需要使用PyTorch训练数据集MNIST的模型。"
      ]
    },
    {
      "cell_type": "markdown",
      "metadata": {
        "id": "jrA70ruIaN-A"
      },
      "source": [
        "Load dataset:"
      ]
    },
    {
      "cell_type": "code",
      "execution_count": 16,
      "metadata": {
        "id": "dguqwltQ9TC4"
      },
      "outputs": [],
      "source": [
        "import torchvision\n",
        "from torchvision.datasets import MNIST\n",
        "from torch.utils.data import DataLoader\n",
        "import torch\n",
        "import torch.nn as nn\n",
        "import torch.nn.functional as F\n",
        "\n",
        "train_data = MNIST(\n",
        "    root = \"data\",\n",
        "    download = True,\n",
        "    train = True,\n",
        "    transform = torchvision.transforms.ToTensor()\n",
        ")\n",
        "test_data = MNIST(\n",
        "    root = \"data\",\n",
        "    download = True,\n",
        "    train = False,\n",
        "    transform = torchvision.transforms.ToTensor()\n",
        ")\n",
        "\n",
        "train_dataloader = DataLoader(train_data, batch_size = 64)\n",
        "test_dataloader = DataLoader(test_data, batch_size = 64)"
      ]
    },
    {
      "cell_type": "markdown",
      "metadata": {
        "id": "ovgrtfvNa-VF"
      },
      "source": [
        "Model: you may select your favorite model and implement it in the following class."
      ]
    },
    {
      "cell_type": "code",
      "execution_count": 17,
      "metadata": {
        "id": "I_Bo3r3FbIWO"
      },
      "outputs": [],
      "source": [
        "\n",
        "class Model(nn.Module):\n",
        "    def __init__(self):\n",
        "        super(Model, self).__init__()\n",
        "        self.fc1 = nn.Linear(28 * 28, 128)\n",
        "        self.fc2 = nn.Linear(128, 64)\n",
        "        self.fc3 = nn.Linear(64, 10)\n",
        "\n",
        "    def forward(self, x):\n",
        "        x = x.view(-1, 28 * 28)\n",
        "        x = F.relu(self.fc1(x))\n",
        "        x = F.relu(self.fc2(x))\n",
        "        x = self.fc3(x)\n",
        "        return x"
      ]
    },
    {
      "cell_type": "markdown",
      "metadata": {
        "id": "F2IadIrIbU8V"
      },
      "source": [
        "Evaluation: you need to implement a pipeline to train your neural network  \n",
        "前向+反向"
      ]
    },
    {
      "cell_type": "code",
      "execution_count": 18,
      "metadata": {
        "id": "0RKqr0UebjDf"
      },
      "outputs": [
        {
          "name": "stdout",
          "output_type": "stream",
          "text": [
            "训练数据集大小: 60000\n",
            "测试数据集大小: 10000\n",
            "-----第1论训练开始-----\n",
            "[6400/60000]   Loss: 0.334084\n",
            "[12800/60000]   Loss: 0.464285\n",
            "[19200/60000]   Loss: 0.286569\n",
            "[25600/60000]   Loss: 0.303119\n",
            "[32000/60000]   Loss: 0.289812\n",
            "[38400/60000]   Loss: 0.297790\n",
            "[44800/60000]   Loss: 0.216777\n",
            "[51200/60000]   Loss: 0.281214\n",
            "[57600/60000]   Loss: 0.117737\n",
            "第1次训练   Avg Loss: 0.0056\n",
            "训练集: Avg loss: 0.0028,   Accuracy: 9443/10000 (94.43%)\n",
            "-----第2论训练开始-----\n",
            "[6400/60000]   Loss: 0.078403\n",
            "[12800/60000]   Loss: 0.181213\n",
            "[19200/60000]   Loss: 0.128000\n",
            "[25600/60000]   Loss: 0.238784\n",
            "[32000/60000]   Loss: 0.118468\n",
            "[38400/60000]   Loss: 0.190246\n",
            "[44800/60000]   Loss: 0.069674\n",
            "[51200/60000]   Loss: 0.120869\n",
            "[57600/60000]   Loss: 0.071359\n",
            "第2次训练   Avg Loss: 0.0024\n",
            "训练集: Avg loss: 0.0019,   Accuracy: 9625/10000 (96.25%)\n",
            "-----第3论训练开始-----\n",
            "[6400/60000]   Loss: 0.047284\n",
            "[12800/60000]   Loss: 0.104680\n",
            "[19200/60000]   Loss: 0.083441\n",
            "[25600/60000]   Loss: 0.213303\n",
            "[32000/60000]   Loss: 0.053428\n",
            "[38400/60000]   Loss: 0.161084\n",
            "[44800/60000]   Loss: 0.034101\n",
            "[51200/60000]   Loss: 0.061262\n",
            "[57600/60000]   Loss: 0.048427\n",
            "第3次训练   Avg Loss: 0.0016\n",
            "训练集: Avg loss: 0.0015,   Accuracy: 9692/10000 (96.92%)\n",
            "-----第4论训练开始-----\n",
            "[6400/60000]   Loss: 0.022696\n",
            "[12800/60000]   Loss: 0.067319\n",
            "[19200/60000]   Loss: 0.050944\n",
            "[25600/60000]   Loss: 0.213391\n",
            "[32000/60000]   Loss: 0.037802\n",
            "[38400/60000]   Loss: 0.103299\n",
            "[44800/60000]   Loss: 0.027560\n",
            "[51200/60000]   Loss: 0.033568\n",
            "[57600/60000]   Loss: 0.027318\n",
            "第4次训练   Avg Loss: 0.0012\n",
            "训练集: Avg loss: 0.0014,   Accuracy: 9736/10000 (97.36%)\n",
            "-----第5论训练开始-----\n",
            "[6400/60000]   Loss: 0.013399\n",
            "[12800/60000]   Loss: 0.058193\n",
            "[19200/60000]   Loss: 0.039238\n",
            "[25600/60000]   Loss: 0.187934\n",
            "[32000/60000]   Loss: 0.031622\n",
            "[38400/60000]   Loss: 0.074098\n",
            "[44800/60000]   Loss: 0.024682\n",
            "[51200/60000]   Loss: 0.033044\n",
            "[57600/60000]   Loss: 0.019132\n",
            "第5次训练   Avg Loss: 0.0009\n",
            "训练集: Avg loss: 0.0013,   Accuracy: 9748/10000 (97.48%)\n"
          ]
        }
      ],
      "source": [
        "model = Model()\n",
        "optimizer = torch.optim.Adam(model.parameters())\n",
        "loss_func = nn.CrossEntropyLoss()\n",
        "\n",
        "train_size = len(train_dataloader.dataset)\n",
        "print(f\"训练数据集大小: {train_size}\")\n",
        "test_size = len(test_dataloader.dataset)\n",
        "print(f\"测试数据集大小: {test_size}\")\n",
        "\n",
        "\n",
        "epochs = 5\n",
        "for epoch in range(epochs):\n",
        "    print('-----第{}论训练开始-----'.format(epoch+1))\n",
        "    model.train()\n",
        "    total_loss = 0\n",
        "    batch_idx = 0\n",
        "    for data, target in train_dataloader:\n",
        "        optimizer.zero_grad()  \n",
        "        output = model(data)  \n",
        "        loss = loss_func(output, target)  \n",
        "        loss.backward()  \n",
        "        optimizer.step()  \n",
        "        total_loss += loss.item()\n",
        "        batch_idx +=1\n",
        "        \n",
        "        if batch_idx % 100 == 0:\n",
        "            print('[{}/{}]   Loss: {:.6f}'.format(\n",
        "                batch_idx * len(data), train_size,loss.item()))\n",
        "    \n",
        "    print('第{}次训练   Avg Loss: {:.4f}'.format(epoch+1, total_loss / train_size))\n",
        "\n",
        "    # 测试集\n",
        "    model.eval()\n",
        "    test_loss = 0\n",
        "    correct = 0\n",
        "    with torch.no_grad():\n",
        "        for data, target in test_dataloader:\n",
        "            output = model(data)\n",
        "            test_loss += loss_func(output, target).item()\n",
        "            pred = output.argmax(dim=1, keepdim=True)\n",
        "            correct += pred.eq(target.view_as(pred)).sum().item()\n",
        "\n",
        "    test_loss /= test_size\n",
        "    accuracy = 100. * correct / test_size\n",
        "    print('训练集: Avg loss: {:.4f},   Accuracy: {}/{} ({:.2f}%)'.format(\n",
        "        test_loss, correct, test_size, accuracy))"
      ]
    }
  ],
  "metadata": {
    "colab": {
      "provenance": []
    },
    "kernelspec": {
      "display_name": "Python 3",
      "name": "python3"
    },
    "language_info": {
      "codemirror_mode": {
        "name": "ipython",
        "version": 3
      },
      "file_extension": ".py",
      "mimetype": "text/x-python",
      "name": "python",
      "nbconvert_exporter": "python",
      "pygments_lexer": "ipython3",
      "version": "3.12.0"
    }
  },
  "nbformat": 4,
  "nbformat_minor": 0
}

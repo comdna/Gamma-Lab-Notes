{
  "cells": [
    {
      "cell_type": "markdown",
      "metadata": {
        "id": "o0SaWNfqNeGZ"
      },
      "source": [
        "## Week1 Parctice"
      ]
    },
    {
      "cell_type": "markdown",
      "metadata": {
        "id": "QFuguKuszryl"
      },
      "source": [
        "Implement an object \"StudentManager\", and the corresponding functions. You may check the docstring for more details and write your code from \"# Your code here\" to \"# End your code\".\n",
        "\n",
        "**Note:**\n",
        "The average grade can be calculated as follows:\n",
        "\n",
        "$$\n",
        "scores = \\frac{\\sum(credits * grade)}{\\sum(credits)}\n",
        "$$\n"
      ]
    },
    {
      "cell_type": "code",
      "execution_count": 1,
      "metadata": {
        "id": "XOPNzN2W79wr"
      },
      "outputs": [],
      "source": [
        "class StudentManager:\n",
        "  def __init__(self):\n",
        "    self.student = []\n",
        "  def add_student(self, name, age, courses):\n",
        "    \"\"\"\n",
        "    name: Str\n",
        "    age: Int\n",
        "    courses: Dict[str, List[int]]\n",
        "    \"\"\"\n",
        "    student_info = {\n",
        "      'name':name,\n",
        "      'age':age,\n",
        "      'courses':courses\n",
        "    }\n",
        "    self.student.append(student_info)\n",
        "    \n",
        "\n",
        "  def average_scores(self):\n",
        "    \"\"\"This function is used to query average grades.\n",
        "\n",
        "    Returns\n",
        "    -------\n",
        "    scores: List[Float]\n",
        "      The average scores of the students\n",
        "    \"\"\"\n",
        "    scores=[]\n",
        "\n",
        "    for stu in self.student:\n",
        "      score_sum=0.0\n",
        "      credit_sum=0.0\n",
        "      for courseName,courseMeg in stu['courses'].items():\n",
        "        credit=courseMeg[0]\n",
        "        score=courseMeg[1]\n",
        "        score_sum+=score*credit\n",
        "        credit_sum+=credit\n",
        "      scores.append(score_sum/credit_sum)\n",
        "    return scores\n"
      ]
    },
    {
      "cell_type": "markdown",
      "metadata": {},
      "source": [
        "继承"
      ]
    },
    {
      "cell_type": "code",
      "execution_count": 2,
      "metadata": {
        "id": "-3JbuGEQ6xbT"
      },
      "outputs": [],
      "source": [
        "class GraduateStudent(StudentManager):\n",
        "    \"\"\"\n",
        "    传一个课程名，返回所有上这个课的学生姓名列表\n",
        "    \"\"\"\n",
        "    def find_students_in_course(self, course_name):\n",
        "        found_students=[]\n",
        "        for stu in self.student:\n",
        "            if(course_name in stu['courses']):\n",
        "                found_students.append(stu['name'])\n",
        "        return found_students"
      ]
    },
    {
      "cell_type": "markdown",
      "metadata": {
        "id": "ZcPQah0H61Vi"
      },
      "source": [
        "测试代码"
      ]
    },
    {
      "cell_type": "code",
      "execution_count": 3,
      "metadata": {
        "id": "2KsRFsCh7H9a"
      },
      "outputs": [],
      "source": [
        "graduate_manager = GraduateStudent()\n",
        "course = {\n",
        "    \"Math\": [5, 80],\n",
        "    \"Physics\": [3, 76]\n",
        "}\n",
        "graduate_manager.add_student(\"Alice\", 25, course)\n",
        "course = {\n",
        "    \"Math\": [5, 74],\n",
        "    \"Computer Science\": [2, 92]\n",
        "}\n",
        "graduate_manager.add_student(\"Bob\", 27, course)\n",
        "course = {\n",
        "    \"Computer Science\": [2, 87]\n",
        "}\n",
        "graduate_manager.add_student(\"Eve\", 26, course)\n",
        "\n",
        "assert graduate_manager.find_students_in_course(\"Math\") == [\"Alice\", \"Bob\"]"
      ]
    },
    {
      "cell_type": "code",
      "execution_count": 4,
      "metadata": {},
      "outputs": [],
      "source": [
        "import numpy as np\n",
        "assert np.allclose(graduate_manager.average_scores(), [78.5, 79.14285714285714, 87.0])"
      ]
    }
  ],
  "metadata": {
    "accelerator": "GPU",
    "colab": {
      "gpuType": "T4",
      "provenance": []
    },
    "kernelspec": {
      "display_name": "Python 3",
      "name": "python3"
    },
    "language_info": {
      "codemirror_mode": {
        "name": "ipython",
        "version": 3
      },
      "file_extension": ".py",
      "mimetype": "text/x-python",
      "name": "python",
      "nbconvert_exporter": "python",
      "pygments_lexer": "ipython3",
      "version": "3.12.0"
    }
  },
  "nbformat": 4,
  "nbformat_minor": 0
}
